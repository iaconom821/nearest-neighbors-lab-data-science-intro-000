{
 "cells": [
  {
   "cell_type": "markdown",
   "metadata": {},
   "source": [
    "# Nearest Neighbors Lab"
   ]
  },
  {
   "cell_type": "markdown",
   "metadata": {},
   "source": [
    "### Introduction\n",
    "\n",
    "In this lab, you apply nearest neighbors technique to help a taxi company predict the length of their rides.  Imagine that we are hired to consult for LiftOff, a limo and taxi service that is just opening up in NYC.  Liftoff wants it's taxi drivers to target longer rides, as the longer the ride the more money it makes.  LiftOff has the following theory:\n",
    "\n",
    "* the pickup location of a taxi ride can help predict the length of the ride.  \n",
    "\n",
    "\n",
    "\n",
    "LiftOff asks us to do some analysis to write a function that will allow it to **predict the length of a taxi ride for any given location **.\n",
    "\n",
    "Our technique will be the following:\n",
    "  * **Collect** Obtain the data containing all of the taxi information, and only select the attributes of taxi trips that we need \n",
    "  * ** Explore ** Examine the attributes of our data, and plot some of our data on a map\n",
    "  * ** Train ** Write our nearest neighbors formula, and change the number of nearby trips to predict the length of a new trip\n",
    "  * ** Predict ** Use our function to predict trip lengths of new locations"
   ]
  },
  {
   "cell_type": "markdown",
   "metadata": {},
   "source": [
    "### Collect and Explore the data"
   ]
  },
  {
   "cell_type": "markdown",
   "metadata": {},
   "source": [
    "#### Collect the Data"
   ]
  },
  {
   "cell_type": "markdown",
   "metadata": {},
   "source": [
    "Luckily for us, [NYC Open Data](https://opendata.cityofnewyork.us/) collects information about NYC taxi trips and provides this data on [its website](https://data.cityofnewyork.us/Transportation/2014-Yellow-Taxi-Trip-Data/gn7m-em8n)."
   ]
  },
  {
   "cell_type": "markdown",
   "metadata": {},
   "source": [
    "![](./nyc-taxi.png)"
   ]
  },
  {
   "cell_type": "markdown",
   "metadata": {},
   "source": [
    "For your reading pleasure, the data has already been downloaded into the [trips.json](https://github.com/learn-co-curriculum/nearest-neighbors-lab/blob/master/trips.json) file in this lab which you can find here.  We'll use Python's `json` library to take the data from the `trips.json` file and store it as a variable in our notebook."
   ]
  },
  {
   "cell_type": "code",
   "execution_count": 1,
   "metadata": {},
   "outputs": [],
   "source": [
    "import json\n",
    "# First, read the file\n",
    "trips_file = open('trips.json')\n",
    "# Then, convert contents to list of dictionaries \n",
    "trips = json.load(trips_file)"
   ]
  },
  {
   "cell_type": "markdown",
   "metadata": {},
   "source": [
    "> Press shift + enter"
   ]
  },
  {
   "cell_type": "markdown",
   "metadata": {},
   "source": [
    "#### Explore the data"
   ]
  },
  {
   "cell_type": "markdown",
   "metadata": {},
   "source": [
    "The next step is to explore the data.  First, let's see how many trips we have."
   ]
  },
  {
   "cell_type": "code",
   "execution_count": 2,
   "metadata": {},
   "outputs": [
    {
     "data": {
      "text/plain": [
       "1000"
      ]
     },
     "execution_count": 2,
     "metadata": {},
     "output_type": "execute_result"
    }
   ],
   "source": [
    "len(trips)"
   ]
  },
  {
   "cell_type": "markdown",
   "metadata": {},
   "source": [
    "Not bad at all.  Now let's see what each individual trip looks like.  Each trip is a dictionary, so we can see the attributes of each trip with the `keys` function."
   ]
  },
  {
   "cell_type": "code",
   "execution_count": 3,
   "metadata": {
    "scrolled": true
   },
   "outputs": [
    {
     "data": {
      "text/plain": [
       "dict_keys(['dropoff_datetime', 'dropoff_latitude', 'dropoff_longitude', 'fare_amount', 'imp_surcharge', 'mta_tax', 'passenger_count', 'payment_type', 'pickup_datetime', 'pickup_latitude', 'pickup_longitude', 'rate_code', 'tip_amount', 'tolls_amount', 'total_amount', 'trip_distance', 'vendor_id'])"
      ]
     },
     "execution_count": 3,
     "metadata": {},
     "output_type": "execute_result"
    }
   ],
   "source": [
    "trips[0].keys()"
   ]
  },
  {
   "cell_type": "markdown",
   "metadata": {},
   "source": [
    "#### Limit our data"
   ]
  },
  {
   "cell_type": "markdown",
   "metadata": {},
   "source": [
    "Ok, now that we have explored some of our data, let's begin to think through what data is relevant for our task."
   ]
  },
  {
   "cell_type": "markdown",
   "metadata": {
    "collapsed": true
   },
   "source": [
    "Remember that our task is to **use the trip location to predict the length of a trip**.  So let's select the `pickup_latitude`, `pickup_longitude`, and `trip_distance` from each trip.  That will give us the trip location and related `trip_distance` for each trip.  Then based on these **actual** trip distances we can use nearest neighbors to predict an **expected** trip distance for a trip, provided an **actual** location."
   ]
  },
  {
   "cell_type": "markdown",
   "metadata": {},
   "source": [
    "** Add in about trip distance ** "
   ]
  },
  {
   "cell_type": "markdown",
   "metadata": {},
   "source": [
    "Write a function called `parse_trips(trips)` that returns a list of the trips with only the following attributes: \n",
    "* `trip_distance`\n",
    "* `pickup_latitude`\n",
    "* `pickup_longitude`"
   ]
  },
  {
   "cell_type": "code",
   "execution_count": 31,
   "metadata": {},
   "outputs": [],
   "source": [
    "def parse_trips(trips):\n",
    "    parse_trips_list = []\n",
    "    for index in range(len(trips)):\n",
    "        parse_trips_dict = {}\n",
    "        parse_trips_dict['pickup_latitude'] = trips[index]['pickup_latitude']\n",
    "        parse_trips_dict['pickup_longitude'] = trips[index]['pickup_longitude']\n",
    "        parse_trips_dict['trip_distance'] = trips[index]['trip_distance']\n",
    "        parse_trips_list.append(parse_trips_dict)\n",
    "    return parse_trips_list"
   ]
  },
  {
   "cell_type": "code",
   "execution_count": 35,
   "metadata": {},
   "outputs": [
    {
     "data": {
      "text/plain": [
       "{'pickup_latitude': '40.64499',\n",
       " 'pickup_longitude': '-73.781149999999997',\n",
       " 'trip_distance': '18.379999999999999'}"
      ]
     },
     "execution_count": 35,
     "metadata": {},
     "output_type": "execute_result"
    }
   ],
   "source": [
    "parsed_trips = parse_trips(trips)\n",
    "parsed_trips and parsed_trips[0]\n",
    "\n",
    "\n",
    "# {'pickup_latitude': '40.64499',\n",
    "#  'pickup_longitude': '-73.78115',\n",
    "#  'trip_distance': '18.38'}"
   ]
  },
  {
   "cell_type": "markdown",
   "metadata": {},
   "source": [
    "Now, there's just one change to make.  If you look at one of the trips, all of the values are strings.  Let's change them to be floats."
   ]
  },
  {
   "cell_type": "code",
   "execution_count": 36,
   "metadata": {},
   "outputs": [],
   "source": [
    "def float_values(trips):    \n",
    "    float_list = []\n",
    "    for index in range(len(trips)):\n",
    "        for key in trips[index]:\n",
    "            trips[index][key] = float(trips[index][key])\n",
    "        float_list.append(trips[index])\n",
    "    return float_list"
   ]
  },
  {
   "cell_type": "code",
   "execution_count": 37,
   "metadata": {},
   "outputs": [],
   "source": [
    "cleaned_trips = float_values(parsed_trips)"
   ]
  },
  {
   "cell_type": "code",
   "execution_count": 40,
   "metadata": {},
   "outputs": [
    {
     "data": {
      "text/plain": [
       "{'pickup_latitude': 40.64499,\n",
       " 'pickup_longitude': -73.78115,\n",
       " 'trip_distance': 18.38}"
      ]
     },
     "execution_count": 40,
     "metadata": {},
     "output_type": "execute_result"
    }
   ],
   "source": [
    "cleaned_trips[0]\n",
    "\n",
    "# {'pickup_latitude': 40.64499,\n",
    "#  'pickup_longitude': -73.78115,\n",
    "#  'trip_distance': 18.38}"
   ]
  },
  {
   "cell_type": "markdown",
   "metadata": {},
   "source": [
    "### Exploring the Data"
   ]
  },
  {
   "cell_type": "markdown",
   "metadata": {},
   "source": [
    "Now that we have paired down our data, let's get a sense of our trip data.  We can use the `folium` Python library to plot a map of Manhattan, and our data.  First we must import `folium`, and then use the `Map` function to pass through a `location`, and `zoom_start`.  If a map isn't showing up below, copy and paste the command `pip install -r requirements.txt` into your terminal to install `folium` then try again."
   ]
  },
  {
   "cell_type": "code",
   "execution_count": 41,
   "metadata": {},
   "outputs": [],
   "source": [
    "import folium\n",
    "manhattan_map = folium.Map(location=[40.7589, -73.9851], zoom_start=11)"
   ]
  },
  {
   "cell_type": "code",
   "execution_count": 42,
   "metadata": {
    "scrolled": true
   },
   "outputs": [
    {
     "data": {
      "text/html": [
       "<div style=\"width:100%;\"><div style=\"position:relative;width:100%;height:0;padding-bottom:60%;\"><iframe src=\"data:text/html;charset=utf-8;base64,PCFET0NUWVBFIGh0bWw+CjxoZWFkPiAgICAKICAgIDxtZXRhIGh0dHAtZXF1aXY9ImNvbnRlbnQtdHlwZSIgY29udGVudD0idGV4dC9odG1sOyBjaGFyc2V0PVVURi04IiAvPgogICAgCiAgICAgICAgPHNjcmlwdD4KICAgICAgICAgICAgTF9OT19UT1VDSCA9IGZhbHNlOwogICAgICAgICAgICBMX0RJU0FCTEVfM0QgPSBmYWxzZTsKICAgICAgICA8L3NjcmlwdD4KICAgIAogICAgPHNjcmlwdCBzcmM9Imh0dHBzOi8vY2RuLmpzZGVsaXZyLm5ldC9ucG0vbGVhZmxldEAxLjUuMS9kaXN0L2xlYWZsZXQuanMiPjwvc2NyaXB0PgogICAgPHNjcmlwdCBzcmM9Imh0dHBzOi8vY29kZS5qcXVlcnkuY29tL2pxdWVyeS0xLjEyLjQubWluLmpzIj48L3NjcmlwdD4KICAgIDxzY3JpcHQgc3JjPSJodHRwczovL21heGNkbi5ib290c3RyYXBjZG4uY29tL2Jvb3RzdHJhcC8zLjIuMC9qcy9ib290c3RyYXAubWluLmpzIj48L3NjcmlwdD4KICAgIDxzY3JpcHQgc3JjPSJodHRwczovL2NkbmpzLmNsb3VkZmxhcmUuY29tL2FqYXgvbGlicy9MZWFmbGV0LmF3ZXNvbWUtbWFya2Vycy8yLjAuMi9sZWFmbGV0LmF3ZXNvbWUtbWFya2Vycy5qcyI+PC9zY3JpcHQ+CiAgICA8bGluayByZWw9InN0eWxlc2hlZXQiIGhyZWY9Imh0dHBzOi8vY2RuLmpzZGVsaXZyLm5ldC9ucG0vbGVhZmxldEAxLjUuMS9kaXN0L2xlYWZsZXQuY3NzIi8+CiAgICA8bGluayByZWw9InN0eWxlc2hlZXQiIGhyZWY9Imh0dHBzOi8vbWF4Y2RuLmJvb3RzdHJhcGNkbi5jb20vYm9vdHN0cmFwLzMuMi4wL2Nzcy9ib290c3RyYXAubWluLmNzcyIvPgogICAgPGxpbmsgcmVsPSJzdHlsZXNoZWV0IiBocmVmPSJodHRwczovL21heGNkbi5ib290c3RyYXBjZG4uY29tL2Jvb3RzdHJhcC8zLjIuMC9jc3MvYm9vdHN0cmFwLXRoZW1lLm1pbi5jc3MiLz4KICAgIDxsaW5rIHJlbD0ic3R5bGVzaGVldCIgaHJlZj0iaHR0cHM6Ly9tYXhjZG4uYm9vdHN0cmFwY2RuLmNvbS9mb250LWF3ZXNvbWUvNC42LjMvY3NzL2ZvbnQtYXdlc29tZS5taW4uY3NzIi8+CiAgICA8bGluayByZWw9InN0eWxlc2hlZXQiIGhyZWY9Imh0dHBzOi8vY2RuanMuY2xvdWRmbGFyZS5jb20vYWpheC9saWJzL0xlYWZsZXQuYXdlc29tZS1tYXJrZXJzLzIuMC4yL2xlYWZsZXQuYXdlc29tZS1tYXJrZXJzLmNzcyIvPgogICAgPGxpbmsgcmVsPSJzdHlsZXNoZWV0IiBocmVmPSJodHRwczovL3Jhd2Nkbi5naXRoYWNrLmNvbS9weXRob24tdmlzdWFsaXphdGlvbi9mb2xpdW0vbWFzdGVyL2ZvbGl1bS90ZW1wbGF0ZXMvbGVhZmxldC5hd2Vzb21lLnJvdGF0ZS5jc3MiLz4KICAgIDxzdHlsZT5odG1sLCBib2R5IHt3aWR0aDogMTAwJTtoZWlnaHQ6IDEwMCU7bWFyZ2luOiAwO3BhZGRpbmc6IDA7fTwvc3R5bGU+CiAgICA8c3R5bGU+I21hcCB7cG9zaXRpb246YWJzb2x1dGU7dG9wOjA7Ym90dG9tOjA7cmlnaHQ6MDtsZWZ0OjA7fTwvc3R5bGU+CiAgICAKICAgICAgICAgICAgPG1ldGEgbmFtZT0idmlld3BvcnQiIGNvbnRlbnQ9IndpZHRoPWRldmljZS13aWR0aCwKICAgICAgICAgICAgICAgIGluaXRpYWwtc2NhbGU9MS4wLCBtYXhpbXVtLXNjYWxlPTEuMCwgdXNlci1zY2FsYWJsZT1ubyIgLz4KICAgICAgICAgICAgPHN0eWxlPgogICAgICAgICAgICAgICAgI21hcF8yY2FhNWQxOTg3NTA0NjA2OGNjYjcxMmM0YjA3ZmQ4NyB7CiAgICAgICAgICAgICAgICAgICAgcG9zaXRpb246IHJlbGF0aXZlOwogICAgICAgICAgICAgICAgICAgIHdpZHRoOiAxMDAuMCU7CiAgICAgICAgICAgICAgICAgICAgaGVpZ2h0OiAxMDAuMCU7CiAgICAgICAgICAgICAgICAgICAgbGVmdDogMC4wJTsKICAgICAgICAgICAgICAgICAgICB0b3A6IDAuMCU7CiAgICAgICAgICAgICAgICB9CiAgICAgICAgICAgIDwvc3R5bGU+CiAgICAgICAgCjwvaGVhZD4KPGJvZHk+ICAgIAogICAgCiAgICAgICAgICAgIDxkaXYgY2xhc3M9ImZvbGl1bS1tYXAiIGlkPSJtYXBfMmNhYTVkMTk4NzUwNDYwNjhjY2I3MTJjNGIwN2ZkODciID48L2Rpdj4KICAgICAgICAKPC9ib2R5Pgo8c2NyaXB0PiAgICAKICAgIAogICAgICAgICAgICB2YXIgbWFwXzJjYWE1ZDE5ODc1MDQ2MDY4Y2NiNzEyYzRiMDdmZDg3ID0gTC5tYXAoCiAgICAgICAgICAgICAgICAibWFwXzJjYWE1ZDE5ODc1MDQ2MDY4Y2NiNzEyYzRiMDdmZDg3IiwKICAgICAgICAgICAgICAgIHsKICAgICAgICAgICAgICAgICAgICBjZW50ZXI6IFs0MC43NTg5LCAtNzMuOTg1MV0sCiAgICAgICAgICAgICAgICAgICAgY3JzOiBMLkNSUy5FUFNHMzg1NywKICAgICAgICAgICAgICAgICAgICB6b29tOiAxMSwKICAgICAgICAgICAgICAgICAgICB6b29tQ29udHJvbDogdHJ1ZSwKICAgICAgICAgICAgICAgICAgICBwcmVmZXJDYW52YXM6IGZhbHNlLAogICAgICAgICAgICAgICAgfQogICAgICAgICAgICApOwoKICAgICAgICAgICAgCgogICAgICAgIAogICAgCiAgICAgICAgICAgIHZhciB0aWxlX2xheWVyX2RjN2MzYjQwYTc4ZTRjZTVhMTVhMTVkZDRmMWZkMDJlID0gTC50aWxlTGF5ZXIoCiAgICAgICAgICAgICAgICAiaHR0cHM6Ly97c30udGlsZS5vcGVuc3RyZWV0bWFwLm9yZy97en0ve3h9L3t5fS5wbmciLAogICAgICAgICAgICAgICAgeyJhdHRyaWJ1dGlvbiI6ICJEYXRhIGJ5IFx1MDAyNmNvcHk7IFx1MDAzY2EgaHJlZj1cImh0dHA6Ly9vcGVuc3RyZWV0bWFwLm9yZ1wiXHUwMDNlT3BlblN0cmVldE1hcFx1MDAzYy9hXHUwMDNlLCB1bmRlciBcdTAwM2NhIGhyZWY9XCJodHRwOi8vd3d3Lm9wZW5zdHJlZXRtYXAub3JnL2NvcHlyaWdodFwiXHUwMDNlT0RiTFx1MDAzYy9hXHUwMDNlLiIsICJkZXRlY3RSZXRpbmEiOiBmYWxzZSwgIm1heE5hdGl2ZVpvb20iOiAxOCwgIm1heFpvb20iOiAxOCwgIm1pblpvb20iOiAwLCAibm9XcmFwIjogZmFsc2UsICJvcGFjaXR5IjogMSwgInN1YmRvbWFpbnMiOiAiYWJjIiwgInRtcyI6IGZhbHNlfQogICAgICAgICAgICApLmFkZFRvKG1hcF8yY2FhNWQxOTg3NTA0NjA2OGNjYjcxMmM0YjA3ZmQ4Nyk7CiAgICAgICAgCjwvc2NyaXB0Pg==\" style=\"position:absolute;width:100%;height:100%;left:0;top:0;border:none !important;\" allowfullscreen webkitallowfullscreen mozallowfullscreen></iframe></div></div>"
      ],
      "text/plain": [
       "<folium.folium.Map at 0x7fa1c43325f8>"
      ]
     },
     "execution_count": 42,
     "metadata": {},
     "output_type": "execute_result"
    }
   ],
   "source": [
    "manhattan_map"
   ]
  },
  {
   "cell_type": "markdown",
   "metadata": {},
   "source": [
    "Ok, now let's see how we could add a dot to mark a specific location.  We'll start with Times Square."
   ]
  },
  {
   "cell_type": "code",
   "execution_count": 43,
   "metadata": {},
   "outputs": [
    {
     "data": {
      "text/plain": [
       "<folium.vector_layers.CircleMarker at 0x7fa1926ac710>"
      ]
     },
     "execution_count": 43,
     "metadata": {},
     "output_type": "execute_result"
    }
   ],
   "source": [
    "marker = folium.CircleMarker(location = [40.7589, -73.9851], radius=10)\n",
    "marker.add_to(manhattan_map)"
   ]
  },
  {
   "cell_type": "markdown",
   "metadata": {},
   "source": [
    "Above, we first create a marker.  Then we add that circle marker to the `manhattan_map` we created earlier. "
   ]
  },
  {
   "cell_type": "code",
   "execution_count": 44,
   "metadata": {
    "scrolled": false
   },
   "outputs": [
    {
     "data": {
      "text/html": [
       "<div style=\"width:100%;\"><div style=\"position:relative;width:100%;height:0;padding-bottom:60%;\"><iframe src=\"data:text/html;charset=utf-8;base64,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\" style=\"position:absolute;width:100%;height:100%;left:0;top:0;border:none !important;\" allowfullscreen webkitallowfullscreen mozallowfullscreen></iframe></div></div>"
      ],
      "text/plain": [
       "<folium.folium.Map at 0x7fa1c43325f8>"
      ]
     },
     "execution_count": 44,
     "metadata": {},
     "output_type": "execute_result"
    }
   ],
   "source": [
    "manhattan_map"
   ]
  },
  {
   "cell_type": "markdown",
   "metadata": {},
   "source": [
    "Do you see that blue dot near Time's Square?  That is our marker.  \n",
    "\n",
    "So now that we can plot one marker on a map, we should have a sense of how we can plot many markers on a map to display our taxi ride data.  We simply plot a map, and then we add a marker for each location of a taxi trip.\n",
    "\n",
    "Now let's write some functions to allow us to plot maps and add markers a little more easily.  "
   ]
  },
  {
   "cell_type": "markdown",
   "metadata": {},
   "source": [
    "#### Writing some map plotting functions"
   ]
  },
  {
   "cell_type": "markdown",
   "metadata": {},
   "source": [
    "As a first step towards this, note that the functions to create both a marker and map each take in a location as two element list, representing the latitude and longitude values.  Take another look:\n",
    "\n",
    "```python\n",
    "marker = folium.CircleMarker(location = [40.7589, -73.9851])\n",
    "manhattan_map = folium.Map(location=[40.7589, -73.9851])\n",
    "```\n",
    "\n",
    "So let's write a function called to create this two element list from a trip.  Write a function called `location` that  takes in a trip as an argument and returns a list where the first element is the latitude and the second is the longitude.  Remember that a location looks like the following:"
   ]
  },
  {
   "cell_type": "code",
   "execution_count": 45,
   "metadata": {},
   "outputs": [
    {
     "data": {
      "text/plain": [
       "{'pickup_latitude': 40.64499,\n",
       " 'pickup_longitude': -73.78115,\n",
       " 'trip_distance': 18.38}"
      ]
     },
     "execution_count": 45,
     "metadata": {},
     "output_type": "execute_result"
    }
   ],
   "source": [
    "first_trip = {'pickup_latitude': 40.64499, 'pickup_longitude': -73.78115,  'trip_distance': 18.38}\n",
    "first_trip"
   ]
  },
  {
   "cell_type": "code",
   "execution_count": 47,
   "metadata": {},
   "outputs": [],
   "source": [
    "def location(trip):\n",
    "    loca_list = [trip['pickup_latitude'], trip['pickup_longitude']]\n",
    "    return loca_list"
   ]
  },
  {
   "cell_type": "code",
   "execution_count": 48,
   "metadata": {},
   "outputs": [
    {
     "data": {
      "text/plain": [
       "[40.64499, -73.78115]"
      ]
     },
     "execution_count": 48,
     "metadata": {},
     "output_type": "execute_result"
    }
   ],
   "source": [
    "first_location = location(first_trip) # [40.64499, -73.78115]\n",
    "first_location # [40.64499, -73.78115]"
   ]
  },
  {
   "cell_type": "markdown",
   "metadata": {},
   "source": [
    "Ok, now that we can turn a trip into a location, let's turn a location into a marker.  Write a function called `to_marker` that takes in a location (in the form of a list) as an argument, and returns a folium `circleMarker` for that location.  The radius of the marker should always equal 6."
   ]
  },
  {
   "cell_type": "code",
   "execution_count": 72,
   "metadata": {},
   "outputs": [],
   "source": [
    "def to_marker(loca):\n",
    "    return folium.CircleMarker(location = loca, radius = 6) \n",
    "    "
   ]
  },
  {
   "cell_type": "code",
   "execution_count": 68,
   "metadata": {},
   "outputs": [
    {
     "ename": "TypeError",
     "evalue": "the JSON object must be str, bytes or bytearray, not 'dict'",
     "output_type": "error",
     "traceback": [
      "\u001b[0;31m\u001b[0m",
      "\u001b[0;31mTypeError\u001b[0mTraceback (most recent call last)",
      "\u001b[0;32m<ipython-input-68-aea535683066>\u001b[0m in \u001b[0;36m<module>\u001b[0;34m\u001b[0m\n\u001b[1;32m      3\u001b[0m \u001b[0;34m\u001b[0m\u001b[0m\n\u001b[1;32m      4\u001b[0m \u001b[0mtimes_square_marker\u001b[0m \u001b[0;32mand\u001b[0m \u001b[0mtimes_square_marker\u001b[0m\u001b[0;34m.\u001b[0m\u001b[0mlocation\u001b[0m \u001b[0;31m# [40.7589, -73.9851]\u001b[0m\u001b[0;34m\u001b[0m\u001b[0;34m\u001b[0m\u001b[0m\n\u001b[0;32m----> 5\u001b[0;31m \u001b[0mtimes_square_marker\u001b[0m \u001b[0;32mand\u001b[0m \u001b[0mjson\u001b[0m\u001b[0;34m.\u001b[0m\u001b[0mloads\u001b[0m\u001b[0;34m(\u001b[0m\u001b[0mtimes_square_marker\u001b[0m\u001b[0;34m.\u001b[0m\u001b[0moptions\u001b[0m\u001b[0;34m)\u001b[0m\u001b[0;34m[\u001b[0m\u001b[0;34m'radius'\u001b[0m\u001b[0;34m]\u001b[0m \u001b[0;31m# 6\u001b[0m\u001b[0;34m\u001b[0m\u001b[0;34m\u001b[0m\u001b[0m\n\u001b[0m",
      "\u001b[0;32m/opt/conda/envs/learn-env/lib/python3.6/json/__init__.py\u001b[0m in \u001b[0;36mloads\u001b[0;34m(s, encoding, cls, object_hook, parse_float, parse_int, parse_constant, object_pairs_hook, **kw)\u001b[0m\n\u001b[1;32m    346\u001b[0m         \u001b[0;32mif\u001b[0m \u001b[0;32mnot\u001b[0m \u001b[0misinstance\u001b[0m\u001b[0;34m(\u001b[0m\u001b[0ms\u001b[0m\u001b[0;34m,\u001b[0m \u001b[0;34m(\u001b[0m\u001b[0mbytes\u001b[0m\u001b[0;34m,\u001b[0m \u001b[0mbytearray\u001b[0m\u001b[0;34m)\u001b[0m\u001b[0;34m)\u001b[0m\u001b[0;34m:\u001b[0m\u001b[0;34m\u001b[0m\u001b[0;34m\u001b[0m\u001b[0m\n\u001b[1;32m    347\u001b[0m             raise TypeError('the JSON object must be str, bytes or bytearray, '\n\u001b[0;32m--> 348\u001b[0;31m                             'not {!r}'.format(s.__class__.__name__))\n\u001b[0m\u001b[1;32m    349\u001b[0m         \u001b[0ms\u001b[0m \u001b[0;34m=\u001b[0m \u001b[0ms\u001b[0m\u001b[0;34m.\u001b[0m\u001b[0mdecode\u001b[0m\u001b[0;34m(\u001b[0m\u001b[0mdetect_encoding\u001b[0m\u001b[0;34m(\u001b[0m\u001b[0ms\u001b[0m\u001b[0;34m)\u001b[0m\u001b[0;34m,\u001b[0m \u001b[0;34m'surrogatepass'\u001b[0m\u001b[0;34m)\u001b[0m\u001b[0;34m\u001b[0m\u001b[0;34m\u001b[0m\u001b[0m\n\u001b[1;32m    350\u001b[0m \u001b[0;34m\u001b[0m\u001b[0m\n",
      "\u001b[0;31mTypeError\u001b[0m: the JSON object must be str, bytes or bytearray, not 'dict'"
     ]
    }
   ],
   "source": [
    "import json\n",
    "times_square_marker = to_marker([40.7589, -73.9851])\n",
    "\n",
    "times_square_marker and times_square_marker.location # [40.7589, -73.9851]\n",
    "times_square_marker and json.loads(times_square_marker.options)['radius'] # 6\n"
   ]
  },
  {
   "cell_type": "markdown",
   "metadata": {},
   "source": [
    "Ok, now that we know how to produce a single marker, let's write a function to produce lots.  We can write a function called `markers_from_trips` that takes in a list of trips, and returns a marker object for each trip.  "
   ]
  },
  {
   "cell_type": "code",
   "execution_count": 76,
   "metadata": {},
   "outputs": [],
   "source": [
    "def markers_from_trips(trips):\n",
    "    marker_list = []\n",
    "    for index in range(len(trips)):\n",
    "        loca = location(trips[index])\n",
    "        mark = to_marker(loca)\n",
    "        marker_list.append(mark)\n",
    "    print(marker_list)\n",
    "    return marker_list"
   ]
  },
  {
   "cell_type": "code",
   "execution_count": 77,
   "metadata": {},
   "outputs": [
    {
     "name": "stdout",
     "output_type": "stream",
     "text": [
      "<folium.vector_layers.CircleMarker object at 0x7fa192686390>\n",
      "<folium.vector_layers.CircleMarker object at 0x7fa192686080>\n",
      "<folium.vector_layers.CircleMarker object at 0x7fa1926866d8>\n",
      "<folium.vector_layers.CircleMarker object at 0x7fa192686a90>\n",
      "<folium.vector_layers.CircleMarker object at 0x7fa1926860f0>\n",
      "<folium.vector_layers.CircleMarker object at 0x7fa192686710>\n",
      "<folium.vector_layers.CircleMarker object at 0x7fa192686748>\n",
      "<folium.vector_layers.CircleMarker object at 0x7fa1926867b8>\n",
      "<folium.vector_layers.CircleMarker object at 0x7fa192686780>\n",
      "<folium.vector_layers.CircleMarker object at 0x7fa192686b38>\n",
      "<folium.vector_layers.CircleMarker object at 0x7fa192686898>\n",
      "<folium.vector_layers.CircleMarker object at 0x7fa192686ac8>\n",
      "<folium.vector_layers.CircleMarker object at 0x7fa192686668>\n",
      "<folium.vector_layers.CircleMarker object at 0x7fa1926866a0>\n",
      "<folium.vector_layers.CircleMarker object at 0x7fa192686a58>\n",
      "<folium.vector_layers.CircleMarker object at 0x7fa192686b00>\n",
      "<folium.vector_layers.CircleMarker object at 0x7fa192686940>\n",
      "<folium.vector_layers.CircleMarker object at 0x7fa192686860>\n",
      "<folium.vector_layers.CircleMarker object at 0x7fa1926861d0>\n",
      "<folium.vector_layers.CircleMarker object at 0x7fa192686160>\n",
      "<folium.vector_layers.CircleMarker object at 0x7fa1926867f0>\n",
      "<folium.vector_layers.CircleMarker object at 0x7fa192686908>\n",
      "<folium.vector_layers.CircleMarker object at 0x7fa192686ba8>\n",
      "<folium.vector_layers.CircleMarker object at 0x7fa192686be0>\n",
      "<folium.vector_layers.CircleMarker object at 0x7fa1926865f8>\n",
      "<folium.vector_layers.CircleMarker object at 0x7fa1926862b0>\n",
      "<folium.vector_layers.CircleMarker object at 0x7fa192686278>\n",
      "<folium.vector_layers.CircleMarker object at 0x7fa192686208>\n",
      "<folium.vector_layers.CircleMarker object at 0x7fa192686c50>\n",
      "<folium.vector_layers.CircleMarker object at 0x7fa192686c18>\n",
      "<folium.vector_layers.CircleMarker object at 0x7fa192686c88>\n",
      "<folium.vector_layers.CircleMarker object at 0x7fa192686cf8>\n",
      "<folium.vector_layers.CircleMarker object at 0x7fa192686d30>\n",
      "<folium.vector_layers.CircleMarker object at 0x7fa192686d68>\n",
      "<folium.vector_layers.CircleMarker object at 0x7fa192686da0>\n",
      "<folium.vector_layers.CircleMarker object at 0x7fa192686dd8>\n",
      "<folium.vector_layers.CircleMarker object at 0x7fa192686e10>\n",
      "<folium.vector_layers.CircleMarker object at 0x7fa192686e48>\n",
      "<folium.vector_layers.CircleMarker object at 0x7fa192686e80>\n",
      "<folium.vector_layers.CircleMarker object at 0x7fa192686eb8>\n",
      "<folium.vector_layers.CircleMarker object at 0x7fa192686ef0>\n",
      "<folium.vector_layers.CircleMarker object at 0x7fa192686f28>\n",
      "<folium.vector_layers.CircleMarker object at 0x7fa192686f60>\n",
      "<folium.vector_layers.CircleMarker object at 0x7fa192686f98>\n",
      "<folium.vector_layers.CircleMarker object at 0x7fa192686fd0>\n",
      "<folium.vector_layers.CircleMarker object at 0x7fa192686048>\n",
      "<folium.vector_layers.CircleMarker object at 0x7fa192d32668>\n",
      "<folium.vector_layers.CircleMarker object at 0x7fa1c428ef98>\n",
      "<folium.vector_layers.CircleMarker object at 0x7fa192686a20>\n",
      "<folium.vector_layers.CircleMarker object at 0x7fa1926a9828>\n",
      "<folium.vector_layers.CircleMarker object at 0x7fa1926a9ba8>\n",
      "<folium.vector_layers.CircleMarker object at 0x7fa1926a9ac8>\n",
      "<folium.vector_layers.CircleMarker object at 0x7fa1926a9da0>\n",
      "<folium.vector_layers.CircleMarker object at 0x7fa1926a9860>\n",
      "<folium.vector_layers.CircleMarker object at 0x7fa1926a9b00>\n",
      "<folium.vector_layers.CircleMarker object at 0x7fa1926a9a90>\n",
      "<folium.vector_layers.CircleMarker object at 0x7fa1926a9dd8>\n",
      "<folium.vector_layers.CircleMarker object at 0x7fa1926a9780>\n",
      "<folium.vector_layers.CircleMarker object at 0x7fa1926a9e80>\n",
      "<folium.vector_layers.CircleMarker object at 0x7fa1926a9c50>\n",
      "<folium.vector_layers.CircleMarker object at 0x7fa1926a9630>\n",
      "<folium.vector_layers.CircleMarker object at 0x7fa1926a95f8>\n",
      "<folium.vector_layers.CircleMarker object at 0x7fa1926a9710>\n",
      "<folium.vector_layers.CircleMarker object at 0x7fa1926a9ef0>\n",
      "<folium.vector_layers.CircleMarker object at 0x7fa1926a9a58>\n",
      "<folium.vector_layers.CircleMarker object at 0x7fa1926a9748>\n",
      "<folium.vector_layers.CircleMarker object at 0x7fa1926a9e10>\n",
      "<folium.vector_layers.CircleMarker object at 0x7fa1926a9198>\n",
      "<folium.vector_layers.CircleMarker object at 0x7fa1926a9550>\n",
      "<folium.vector_layers.CircleMarker object at 0x7fa1926a9f28>\n",
      "<folium.vector_layers.CircleMarker object at 0x7fa1926a9fd0>\n",
      "<folium.vector_layers.CircleMarker object at 0x7fa1926a9f98>\n",
      "<folium.vector_layers.CircleMarker object at 0x7fa1926a9cf8>\n",
      "<folium.vector_layers.CircleMarker object at 0x7fa1926a93c8>\n",
      "<folium.vector_layers.CircleMarker object at 0x7fa1926a9160>\n",
      "<folium.vector_layers.CircleMarker object at 0x7fa1926a9668>\n",
      "<folium.vector_layers.CircleMarker object at 0x7fa1926a9c18>\n",
      "<folium.vector_layers.CircleMarker object at 0x7fa1926a9be0>\n",
      "<folium.vector_layers.CircleMarker object at 0x7fa1926a9eb8>\n",
      "<folium.vector_layers.CircleMarker object at 0x7fa1926a9d68>\n",
      "<folium.vector_layers.CircleMarker object at 0x7fa1926a97b8>\n",
      "<folium.vector_layers.CircleMarker object at 0x7fa1926a94e0>\n",
      "<folium.vector_layers.CircleMarker object at 0x7fa1926a9b38>\n",
      "<folium.vector_layers.CircleMarker object at 0x7fa1926a9cc0>\n",
      "<folium.vector_layers.CircleMarker object at 0x7fa1926a9c88>\n",
      "<folium.vector_layers.CircleMarker object at 0x7fa1926a9d30>\n",
      "<folium.vector_layers.CircleMarker object at 0x7fa1926a9e48>\n",
      "<folium.vector_layers.CircleMarker object at 0x7fa1926a9f60>\n",
      "<folium.vector_layers.CircleMarker object at 0x7fa1926a9908>\n",
      "<folium.vector_layers.CircleMarker object at 0x7fa1926a99e8>\n",
      "<folium.vector_layers.CircleMarker object at 0x7fa1926a9940>\n",
      "<folium.vector_layers.CircleMarker object at 0x7fa1926a9470>\n",
      "<folium.vector_layers.CircleMarker object at 0x7fa1926a9320>\n",
      "<folium.vector_layers.CircleMarker object at 0x7fa1926a9208>\n",
      "<folium.vector_layers.CircleMarker object at 0x7fa1926a9080>\n",
      "<folium.vector_layers.CircleMarker object at 0x7fa1926a91d0>\n",
      "<folium.vector_layers.CircleMarker object at 0x7fa1926a9978>\n",
      "<folium.vector_layers.CircleMarker object at 0x7fa1926ace80>\n",
      "<folium.vector_layers.CircleMarker object at 0x7fa1926acc88>\n",
      "<folium.vector_layers.CircleMarker object at 0x7fa1926acef0>\n",
      "<folium.vector_layers.CircleMarker object at 0x7fa19270efd0>\n",
      "<folium.vector_layers.CircleMarker object at 0x7fa19270ef98>\n",
      "<folium.vector_layers.CircleMarker object at 0x7fa19270ef28>\n",
      "<folium.vector_layers.CircleMarker object at 0x7fa1c43323c8>\n",
      "<folium.vector_layers.CircleMarker object at 0x7fa1c43322b0>\n",
      "<folium.vector_layers.CircleMarker object at 0x7fa1c4332518>\n",
      "<folium.vector_layers.CircleMarker object at 0x7fa1c4332550>\n",
      "<folium.vector_layers.CircleMarker object at 0x7fa1925b99e8>\n",
      "<folium.vector_layers.CircleMarker object at 0x7fa1925b9588>\n",
      "<folium.vector_layers.CircleMarker object at 0x7fa1925b9518>\n",
      "<folium.vector_layers.CircleMarker object at 0x7fa1925b98d0>\n",
      "<folium.vector_layers.CircleMarker object at 0x7fa1925b94a8>\n",
      "<folium.vector_layers.CircleMarker object at 0x7fa1925b9080>\n",
      "<folium.vector_layers.CircleMarker object at 0x7fa1925b90b8>\n",
      "<folium.vector_layers.CircleMarker object at 0x7fa1925b90f0>\n",
      "<folium.vector_layers.CircleMarker object at 0x7fa1925b9128>\n",
      "<folium.vector_layers.CircleMarker object at 0x7fa1925b9160>\n",
      "<folium.vector_layers.CircleMarker object at 0x7fa1925b9198>\n",
      "<folium.vector_layers.CircleMarker object at 0x7fa1925b91d0>\n",
      "<folium.vector_layers.CircleMarker object at 0x7fa1925b9208>\n",
      "<folium.vector_layers.CircleMarker object at 0x7fa1925b9240>\n",
      "<folium.vector_layers.CircleMarker object at 0x7fa1925b9278>\n",
      "<folium.vector_layers.CircleMarker object at 0x7fa1925b92b0>\n",
      "<folium.vector_layers.CircleMarker object at 0x7fa1925b92e8>\n",
      "<folium.vector_layers.CircleMarker object at 0x7fa1925b9320>\n",
      "<folium.vector_layers.CircleMarker object at 0x7fa1925b9358>\n",
      "<folium.vector_layers.CircleMarker object at 0x7fa1925b9390>\n",
      "<folium.vector_layers.CircleMarker object at 0x7fa1925b93c8>\n",
      "<folium.vector_layers.CircleMarker object at 0x7fa1925b9400>\n",
      "<folium.vector_layers.CircleMarker object at 0x7fa1925b9438>\n",
      "<folium.vector_layers.CircleMarker object at 0x7fa1925b9470>\n",
      "<folium.vector_layers.CircleMarker object at 0x7fa1925b9be0>\n",
      "<folium.vector_layers.CircleMarker object at 0x7fa1924fa048>\n",
      "<folium.vector_layers.CircleMarker object at 0x7fa1924fa470>\n",
      "<folium.vector_layers.CircleMarker object at 0x7fa1924fa4a8>\n",
      "<folium.vector_layers.CircleMarker object at 0x7fa1924fa4e0>\n",
      "<folium.vector_layers.CircleMarker object at 0x7fa1924fa518>\n",
      "<folium.vector_layers.CircleMarker object at 0x7fa1924fa550>\n",
      "<folium.vector_layers.CircleMarker object at 0x7fa1924fa588>\n",
      "<folium.vector_layers.CircleMarker object at 0x7fa1924fa5c0>\n",
      "<folium.vector_layers.CircleMarker object at 0x7fa1924fa5f8>\n",
      "<folium.vector_layers.CircleMarker object at 0x7fa1924fa630>\n",
      "<folium.vector_layers.CircleMarker object at 0x7fa1924fa668>\n",
      "<folium.vector_layers.CircleMarker object at 0x7fa1924fa6a0>\n",
      "<folium.vector_layers.CircleMarker object at 0x7fa1924fa6d8>\n",
      "<folium.vector_layers.CircleMarker object at 0x7fa1924fa710>\n",
      "<folium.vector_layers.CircleMarker object at 0x7fa1924fa748>\n",
      "<folium.vector_layers.CircleMarker object at 0x7fa1924fa780>\n",
      "<folium.vector_layers.CircleMarker object at 0x7fa1924fa7b8>\n",
      "<folium.vector_layers.CircleMarker object at 0x7fa1924fa7f0>\n",
      "<folium.vector_layers.CircleMarker object at 0x7fa1924fa828>\n",
      "<folium.vector_layers.CircleMarker object at 0x7fa1924fa860>\n",
      "<folium.vector_layers.CircleMarker object at 0x7fa1924fa898>\n",
      "<folium.vector_layers.CircleMarker object at 0x7fa1924fa8d0>\n",
      "<folium.vector_layers.CircleMarker object at 0x7fa1924fa908>\n",
      "<folium.vector_layers.CircleMarker object at 0x7fa1924fa940>\n",
      "<folium.vector_layers.CircleMarker object at 0x7fa1924fa978>\n",
      "<folium.vector_layers.CircleMarker object at 0x7fa1924fa9b0>\n",
      "<folium.vector_layers.CircleMarker object at 0x7fa1924fa9e8>\n",
      "<folium.vector_layers.CircleMarker object at 0x7fa1924faa20>\n",
      "<folium.vector_layers.CircleMarker object at 0x7fa1924faa58>\n",
      "<folium.vector_layers.CircleMarker object at 0x7fa1924faa90>\n",
      "<folium.vector_layers.CircleMarker object at 0x7fa1924faac8>\n",
      "<folium.vector_layers.CircleMarker object at 0x7fa1924fab00>\n",
      "<folium.vector_layers.CircleMarker object at 0x7fa1924fab38>\n",
      "<folium.vector_layers.CircleMarker object at 0x7fa1924fab70>\n",
      "<folium.vector_layers.CircleMarker object at 0x7fa1924faba8>\n",
      "<folium.vector_layers.CircleMarker object at 0x7fa1924fabe0>\n",
      "<folium.vector_layers.CircleMarker object at 0x7fa1924fac18>\n",
      "<folium.vector_layers.CircleMarker object at 0x7fa1924fac50>\n",
      "<folium.vector_layers.CircleMarker object at 0x7fa1924fac88>\n",
      "<folium.vector_layers.CircleMarker object at 0x7fa1924facc0>\n",
      "<folium.vector_layers.CircleMarker object at 0x7fa1924facf8>\n",
      "<folium.vector_layers.CircleMarker object at 0x7fa1924fad30>\n",
      "<folium.vector_layers.CircleMarker object at 0x7fa1924fad68>\n",
      "<folium.vector_layers.CircleMarker object at 0x7fa1924fada0>\n",
      "<folium.vector_layers.CircleMarker object at 0x7fa1924fadd8>\n",
      "<folium.vector_layers.CircleMarker object at 0x7fa1924fae10>\n",
      "<folium.vector_layers.CircleMarker object at 0x7fa1924fae48>\n",
      "<folium.vector_layers.CircleMarker object at 0x7fa1924fae80>\n",
      "<folium.vector_layers.CircleMarker object at 0x7fa1924faeb8>\n",
      "<folium.vector_layers.CircleMarker object at 0x7fa1924faef0>\n",
      "<folium.vector_layers.CircleMarker object at 0x7fa1924faf28>\n",
      "<folium.vector_layers.CircleMarker object at 0x7fa1924faf60>\n",
      "<folium.vector_layers.CircleMarker object at 0x7fa1924faf98>\n",
      "<folium.vector_layers.CircleMarker object at 0x7fa1924fafd0>\n",
      "<folium.vector_layers.CircleMarker object at 0x7fa1924fa438>\n",
      "<folium.vector_layers.CircleMarker object at 0x7fa192508080>\n",
      "<folium.vector_layers.CircleMarker object at 0x7fa1925080b8>\n",
      "<folium.vector_layers.CircleMarker object at 0x7fa1925080f0>\n",
      "<folium.vector_layers.CircleMarker object at 0x7fa192508128>\n",
      "<folium.vector_layers.CircleMarker object at 0x7fa192508160>\n",
      "<folium.vector_layers.CircleMarker object at 0x7fa192508198>\n",
      "<folium.vector_layers.CircleMarker object at 0x7fa1925081d0>\n",
      "<folium.vector_layers.CircleMarker object at 0x7fa192508208>\n",
      "<folium.vector_layers.CircleMarker object at 0x7fa192508240>\n",
      "<folium.vector_layers.CircleMarker object at 0x7fa192508278>\n",
      "<folium.vector_layers.CircleMarker object at 0x7fa1925082b0>\n",
      "<folium.vector_layers.CircleMarker object at 0x7fa1925082e8>\n",
      "<folium.vector_layers.CircleMarker object at 0x7fa192508320>\n",
      "<folium.vector_layers.CircleMarker object at 0x7fa192508358>\n",
      "<folium.vector_layers.CircleMarker object at 0x7fa192508390>\n",
      "<folium.vector_layers.CircleMarker object at 0x7fa1925083c8>\n",
      "<folium.vector_layers.CircleMarker object at 0x7fa192508400>\n",
      "<folium.vector_layers.CircleMarker object at 0x7fa192508438>\n",
      "<folium.vector_layers.CircleMarker object at 0x7fa192508470>\n",
      "<folium.vector_layers.CircleMarker object at 0x7fa1925084a8>\n",
      "<folium.vector_layers.CircleMarker object at 0x7fa1925084e0>\n",
      "<folium.vector_layers.CircleMarker object at 0x7fa192508518>\n",
      "<folium.vector_layers.CircleMarker object at 0x7fa192508550>\n",
      "<folium.vector_layers.CircleMarker object at 0x7fa192508588>\n",
      "<folium.vector_layers.CircleMarker object at 0x7fa1925085c0>\n",
      "<folium.vector_layers.CircleMarker object at 0x7fa1925085f8>\n",
      "<folium.vector_layers.CircleMarker object at 0x7fa192508630>\n",
      "<folium.vector_layers.CircleMarker object at 0x7fa192508668>\n",
      "<folium.vector_layers.CircleMarker object at 0x7fa1925086a0>\n",
      "<folium.vector_layers.CircleMarker object at 0x7fa1925086d8>\n",
      "<folium.vector_layers.CircleMarker object at 0x7fa192508710>\n",
      "<folium.vector_layers.CircleMarker object at 0x7fa192508748>\n",
      "<folium.vector_layers.CircleMarker object at 0x7fa192508780>\n",
      "<folium.vector_layers.CircleMarker object at 0x7fa1925087b8>\n",
      "<folium.vector_layers.CircleMarker object at 0x7fa1925087f0>\n",
      "<folium.vector_layers.CircleMarker object at 0x7fa192508828>\n",
      "<folium.vector_layers.CircleMarker object at 0x7fa192508860>\n",
      "<folium.vector_layers.CircleMarker object at 0x7fa192508898>\n",
      "<folium.vector_layers.CircleMarker object at 0x7fa1925088d0>\n",
      "<folium.vector_layers.CircleMarker object at 0x7fa192508908>\n",
      "<folium.vector_layers.CircleMarker object at 0x7fa192508940>\n",
      "<folium.vector_layers.CircleMarker object at 0x7fa192508978>\n",
      "<folium.vector_layers.CircleMarker object at 0x7fa1925089b0>\n",
      "<folium.vector_layers.CircleMarker object at 0x7fa1925089e8>\n",
      "<folium.vector_layers.CircleMarker object at 0x7fa192508a20>\n",
      "<folium.vector_layers.CircleMarker object at 0x7fa192508a58>\n",
      "<folium.vector_layers.CircleMarker object at 0x7fa192508a90>\n",
      "<folium.vector_layers.CircleMarker object at 0x7fa192508ac8>\n",
      "<folium.vector_layers.CircleMarker object at 0x7fa192508b00>\n",
      "<folium.vector_layers.CircleMarker object at 0x7fa192508b38>\n",
      "<folium.vector_layers.CircleMarker object at 0x7fa192508b70>\n",
      "<folium.vector_layers.CircleMarker object at 0x7fa192508ba8>\n",
      "<folium.vector_layers.CircleMarker object at 0x7fa192508be0>\n",
      "<folium.vector_layers.CircleMarker object at 0x7fa192508c18>\n",
      "<folium.vector_layers.CircleMarker object at 0x7fa192508c50>\n",
      "<folium.vector_layers.CircleMarker object at 0x7fa192508c88>\n",
      "<folium.vector_layers.CircleMarker object at 0x7fa192508cc0>\n",
      "<folium.vector_layers.CircleMarker object at 0x7fa192508cf8>\n",
      "<folium.vector_layers.CircleMarker object at 0x7fa192508d30>\n",
      "<folium.vector_layers.CircleMarker object at 0x7fa192508d68>\n",
      "<folium.vector_layers.CircleMarker object at 0x7fa192508da0>\n",
      "<folium.vector_layers.CircleMarker object at 0x7fa192508dd8>\n",
      "<folium.vector_layers.CircleMarker object at 0x7fa192508e10>\n",
      "<folium.vector_layers.CircleMarker object at 0x7fa192508e48>\n",
      "<folium.vector_layers.CircleMarker object at 0x7fa192508e80>\n",
      "<folium.vector_layers.CircleMarker object at 0x7fa192508eb8>\n",
      "<folium.vector_layers.CircleMarker object at 0x7fa192508ef0>\n",
      "<folium.vector_layers.CircleMarker object at 0x7fa192508f28>\n",
      "<folium.vector_layers.CircleMarker object at 0x7fa192508f60>\n",
      "<folium.vector_layers.CircleMarker object at 0x7fa192508f98>\n",
      "<folium.vector_layers.CircleMarker object at 0x7fa192508fd0>\n",
      "<folium.vector_layers.CircleMarker object at 0x7fa192508048>\n",
      "<folium.vector_layers.CircleMarker object at 0x7fa192597080>\n",
      "<folium.vector_layers.CircleMarker object at 0x7fa1925970b8>\n",
      "<folium.vector_layers.CircleMarker object at 0x7fa1925970f0>\n",
      "<folium.vector_layers.CircleMarker object at 0x7fa192597128>\n",
      "<folium.vector_layers.CircleMarker object at 0x7fa192597160>\n",
      "<folium.vector_layers.CircleMarker object at 0x7fa192597198>\n",
      "<folium.vector_layers.CircleMarker object at 0x7fa1925971d0>\n",
      "<folium.vector_layers.CircleMarker object at 0x7fa192597208>\n",
      "<folium.vector_layers.CircleMarker object at 0x7fa192597240>\n",
      "<folium.vector_layers.CircleMarker object at 0x7fa192597278>\n",
      "<folium.vector_layers.CircleMarker object at 0x7fa1925972b0>\n",
      "<folium.vector_layers.CircleMarker object at 0x7fa1925972e8>\n",
      "<folium.vector_layers.CircleMarker object at 0x7fa192597320>\n",
      "<folium.vector_layers.CircleMarker object at 0x7fa192597358>\n",
      "<folium.vector_layers.CircleMarker object at 0x7fa192597390>\n",
      "<folium.vector_layers.CircleMarker object at 0x7fa1925973c8>\n",
      "<folium.vector_layers.CircleMarker object at 0x7fa192597400>\n",
      "<folium.vector_layers.CircleMarker object at 0x7fa192597438>\n",
      "<folium.vector_layers.CircleMarker object at 0x7fa192597470>\n",
      "<folium.vector_layers.CircleMarker object at 0x7fa192686b70>\n",
      "<folium.vector_layers.CircleMarker object at 0x7fa1925974a8>\n",
      "<folium.vector_layers.CircleMarker object at 0x7fa192597518>\n",
      "<folium.vector_layers.CircleMarker object at 0x7fa192597550>\n",
      "<folium.vector_layers.CircleMarker object at 0x7fa192597588>\n",
      "<folium.vector_layers.CircleMarker object at 0x7fa1925975c0>\n",
      "<folium.vector_layers.CircleMarker object at 0x7fa1925975f8>\n",
      "<folium.vector_layers.CircleMarker object at 0x7fa192597630>\n",
      "<folium.vector_layers.CircleMarker object at 0x7fa192597668>\n",
      "<folium.vector_layers.CircleMarker object at 0x7fa1925976a0>\n",
      "<folium.vector_layers.CircleMarker object at 0x7fa1925976d8>\n",
      "<folium.vector_layers.CircleMarker object at 0x7fa192597710>\n",
      "<folium.vector_layers.CircleMarker object at 0x7fa192597748>\n",
      "<folium.vector_layers.CircleMarker object at 0x7fa192597780>\n",
      "<folium.vector_layers.CircleMarker object at 0x7fa1925977b8>\n",
      "<folium.vector_layers.CircleMarker object at 0x7fa1925977f0>\n",
      "<folium.vector_layers.CircleMarker object at 0x7fa192597828>\n",
      "<folium.vector_layers.CircleMarker object at 0x7fa192597860>\n",
      "<folium.vector_layers.CircleMarker object at 0x7fa192597898>\n",
      "<folium.vector_layers.CircleMarker object at 0x7fa1925978d0>\n",
      "<folium.vector_layers.CircleMarker object at 0x7fa192597908>\n",
      "<folium.vector_layers.CircleMarker object at 0x7fa192597940>\n",
      "<folium.vector_layers.CircleMarker object at 0x7fa192597978>\n",
      "<folium.vector_layers.CircleMarker object at 0x7fa1925979b0>\n",
      "<folium.vector_layers.CircleMarker object at 0x7fa1925979e8>\n",
      "<folium.vector_layers.CircleMarker object at 0x7fa1925974e0>\n",
      "<folium.vector_layers.CircleMarker object at 0x7fa192597a20>\n",
      "<folium.vector_layers.CircleMarker object at 0x7fa192597a90>\n",
      "<folium.vector_layers.CircleMarker object at 0x7fa192597ac8>\n",
      "<folium.vector_layers.CircleMarker object at 0x7fa192597b00>\n",
      "<folium.vector_layers.CircleMarker object at 0x7fa192597b38>\n",
      "<folium.vector_layers.CircleMarker object at 0x7fa192597b70>\n",
      "<folium.vector_layers.CircleMarker object at 0x7fa192597ba8>\n",
      "<folium.vector_layers.CircleMarker object at 0x7fa192597be0>\n",
      "<folium.vector_layers.CircleMarker object at 0x7fa192597c18>\n",
      "<folium.vector_layers.CircleMarker object at 0x7fa192597c50>\n",
      "<folium.vector_layers.CircleMarker object at 0x7fa192597c88>\n",
      "<folium.vector_layers.CircleMarker object at 0x7fa192597cc0>\n",
      "<folium.vector_layers.CircleMarker object at 0x7fa192597cf8>\n",
      "<folium.vector_layers.CircleMarker object at 0x7fa192597d30>\n",
      "<folium.vector_layers.CircleMarker object at 0x7fa192597d68>\n",
      "<folium.vector_layers.CircleMarker object at 0x7fa192597da0>\n",
      "<folium.vector_layers.CircleMarker object at 0x7fa192597dd8>\n",
      "<folium.vector_layers.CircleMarker object at 0x7fa192597e10>\n",
      "<folium.vector_layers.CircleMarker object at 0x7fa192597e48>\n",
      "<folium.vector_layers.CircleMarker object at 0x7fa192597e80>\n",
      "<folium.vector_layers.CircleMarker object at 0x7fa192597eb8>\n",
      "<folium.vector_layers.CircleMarker object at 0x7fa192597ef0>\n",
      "<folium.vector_layers.CircleMarker object at 0x7fa192597f28>\n",
      "<folium.vector_layers.CircleMarker object at 0x7fa192597f60>\n",
      "<folium.vector_layers.CircleMarker object at 0x7fa192597f98>\n",
      "<folium.vector_layers.CircleMarker object at 0x7fa192597fd0>\n",
      "<folium.vector_layers.CircleMarker object at 0x7fa192597048>\n",
      "<folium.vector_layers.CircleMarker object at 0x7fa1925a7080>\n",
      "<folium.vector_layers.CircleMarker object at 0x7fa1925a70b8>\n",
      "<folium.vector_layers.CircleMarker object at 0x7fa1925a70f0>\n",
      "<folium.vector_layers.CircleMarker object at 0x7fa1925a7128>\n",
      "<folium.vector_layers.CircleMarker object at 0x7fa1925a7160>\n",
      "<folium.vector_layers.CircleMarker object at 0x7fa1925a7198>\n",
      "<folium.vector_layers.CircleMarker object at 0x7fa1925a71d0>\n",
      "<folium.vector_layers.CircleMarker object at 0x7fa1925a7208>\n",
      "<folium.vector_layers.CircleMarker object at 0x7fa1925a7240>\n",
      "<folium.vector_layers.CircleMarker object at 0x7fa1925a7278>\n",
      "<folium.vector_layers.CircleMarker object at 0x7fa1925a72b0>\n",
      "<folium.vector_layers.CircleMarker object at 0x7fa1925a72e8>\n",
      "<folium.vector_layers.CircleMarker object at 0x7fa1925a7320>\n",
      "<folium.vector_layers.CircleMarker object at 0x7fa1925a7358>\n",
      "<folium.vector_layers.CircleMarker object at 0x7fa1925a7390>\n",
      "<folium.vector_layers.CircleMarker object at 0x7fa1925a73c8>\n",
      "<folium.vector_layers.CircleMarker object at 0x7fa1925a7400>\n",
      "<folium.vector_layers.CircleMarker object at 0x7fa1925a7438>\n",
      "<folium.vector_layers.CircleMarker object at 0x7fa1925a7470>\n",
      "<folium.vector_layers.CircleMarker object at 0x7fa1925a74a8>\n",
      "<folium.vector_layers.CircleMarker object at 0x7fa1925a74e0>\n",
      "<folium.vector_layers.CircleMarker object at 0x7fa1925a7518>\n",
      "<folium.vector_layers.CircleMarker object at 0x7fa1925a7550>\n",
      "<folium.vector_layers.CircleMarker object at 0x7fa1925a7588>\n",
      "<folium.vector_layers.CircleMarker object at 0x7fa1925a75c0>\n",
      "<folium.vector_layers.CircleMarker object at 0x7fa1925a75f8>\n",
      "<folium.vector_layers.CircleMarker object at 0x7fa1925a7630>\n",
      "<folium.vector_layers.CircleMarker object at 0x7fa1925a7668>\n",
      "<folium.vector_layers.CircleMarker object at 0x7fa1925a76a0>\n",
      "<folium.vector_layers.CircleMarker object at 0x7fa1925a76d8>\n",
      "<folium.vector_layers.CircleMarker object at 0x7fa1925a7710>\n",
      "<folium.vector_layers.CircleMarker object at 0x7fa1925a7748>\n",
      "<folium.vector_layers.CircleMarker object at 0x7fa1925a7780>\n",
      "<folium.vector_layers.CircleMarker object at 0x7fa1925a77b8>\n",
      "<folium.vector_layers.CircleMarker object at 0x7fa1925a77f0>\n",
      "<folium.vector_layers.CircleMarker object at 0x7fa1925a7828>\n",
      "<folium.vector_layers.CircleMarker object at 0x7fa1925a7860>\n",
      "<folium.vector_layers.CircleMarker object at 0x7fa192597a58>\n",
      "<folium.vector_layers.CircleMarker object at 0x7fa1925a7898>\n",
      "<folium.vector_layers.CircleMarker object at 0x7fa1925a7908>\n",
      "<folium.vector_layers.CircleMarker object at 0x7fa1925a7940>\n",
      "<folium.vector_layers.CircleMarker object at 0x7fa1925a7978>\n",
      "<folium.vector_layers.CircleMarker object at 0x7fa1925a79b0>\n",
      "<folium.vector_layers.CircleMarker object at 0x7fa1925a79e8>\n",
      "<folium.vector_layers.CircleMarker object at 0x7fa1925a7a20>\n",
      "<folium.vector_layers.CircleMarker object at 0x7fa1925a7a58>\n",
      "<folium.vector_layers.CircleMarker object at 0x7fa1925a7a90>\n",
      "<folium.vector_layers.CircleMarker object at 0x7fa1925a7ac8>\n",
      "<folium.vector_layers.CircleMarker object at 0x7fa1925a7b00>\n",
      "<folium.vector_layers.CircleMarker object at 0x7fa1925a7b38>\n",
      "<folium.vector_layers.CircleMarker object at 0x7fa1925a7b70>\n",
      "<folium.vector_layers.CircleMarker object at 0x7fa1925a7ba8>\n",
      "<folium.vector_layers.CircleMarker object at 0x7fa1925a7be0>\n",
      "<folium.vector_layers.CircleMarker object at 0x7fa1925a7c18>\n",
      "<folium.vector_layers.CircleMarker object at 0x7fa1925a7c50>\n",
      "<folium.vector_layers.CircleMarker object at 0x7fa1925a7c88>\n",
      "<folium.vector_layers.CircleMarker object at 0x7fa1925a7cc0>\n",
      "<folium.vector_layers.CircleMarker object at 0x7fa1925a7cf8>\n",
      "<folium.vector_layers.CircleMarker object at 0x7fa1925a7d30>\n",
      "<folium.vector_layers.CircleMarker object at 0x7fa1925a7d68>\n",
      "<folium.vector_layers.CircleMarker object at 0x7fa1925a7da0>\n",
      "<folium.vector_layers.CircleMarker object at 0x7fa1925a7dd8>\n",
      "<folium.vector_layers.CircleMarker object at 0x7fa1925a7e10>\n",
      "<folium.vector_layers.CircleMarker object at 0x7fa1925a7e48>\n",
      "<folium.vector_layers.CircleMarker object at 0x7fa1925a7e80>\n",
      "<folium.vector_layers.CircleMarker object at 0x7fa1925a7eb8>\n",
      "<folium.vector_layers.CircleMarker object at 0x7fa1925a7ef0>\n",
      "<folium.vector_layers.CircleMarker object at 0x7fa1925a7f28>\n",
      "<folium.vector_layers.CircleMarker object at 0x7fa1925a7f60>\n",
      "<folium.vector_layers.CircleMarker object at 0x7fa1925a7f98>\n",
      "<folium.vector_layers.CircleMarker object at 0x7fa1925a7fd0>\n",
      "<folium.vector_layers.CircleMarker object at 0x7fa1925a7048>\n",
      "<folium.vector_layers.CircleMarker object at 0x7fa192617048>\n",
      "<folium.vector_layers.CircleMarker object at 0x7fa1926170b8>\n",
      "<folium.vector_layers.CircleMarker object at 0x7fa1926170f0>\n",
      "<folium.vector_layers.CircleMarker object at 0x7fa192617128>\n",
      "<folium.vector_layers.CircleMarker object at 0x7fa192617160>\n",
      "<folium.vector_layers.CircleMarker object at 0x7fa192617198>\n",
      "<folium.vector_layers.CircleMarker object at 0x7fa1926171d0>\n",
      "<folium.vector_layers.CircleMarker object at 0x7fa192617208>\n",
      "<folium.vector_layers.CircleMarker object at 0x7fa192617240>\n",
      "<folium.vector_layers.CircleMarker object at 0x7fa192617278>\n",
      "<folium.vector_layers.CircleMarker object at 0x7fa1926172b0>\n",
      "<folium.vector_layers.CircleMarker object at 0x7fa1926172e8>\n",
      "<folium.vector_layers.CircleMarker object at 0x7fa192617320>\n",
      "<folium.vector_layers.CircleMarker object at 0x7fa192617358>\n",
      "<folium.vector_layers.CircleMarker object at 0x7fa192617390>\n",
      "<folium.vector_layers.CircleMarker object at 0x7fa1926173c8>\n",
      "<folium.vector_layers.CircleMarker object at 0x7fa192617400>\n",
      "<folium.vector_layers.CircleMarker object at 0x7fa192617438>\n",
      "<folium.vector_layers.CircleMarker object at 0x7fa192617470>\n",
      "<folium.vector_layers.CircleMarker object at 0x7fa1926174a8>\n",
      "<folium.vector_layers.CircleMarker object at 0x7fa1926174e0>\n",
      "<folium.vector_layers.CircleMarker object at 0x7fa192617518>\n",
      "<folium.vector_layers.CircleMarker object at 0x7fa192617550>\n",
      "<folium.vector_layers.CircleMarker object at 0x7fa192617588>\n",
      "<folium.vector_layers.CircleMarker object at 0x7fa1926175c0>\n",
      "<folium.vector_layers.CircleMarker object at 0x7fa1926175f8>\n",
      "<folium.vector_layers.CircleMarker object at 0x7fa192617630>\n",
      "<folium.vector_layers.CircleMarker object at 0x7fa192617668>\n",
      "<folium.vector_layers.CircleMarker object at 0x7fa1926176a0>\n",
      "<folium.vector_layers.CircleMarker object at 0x7fa1926176d8>\n",
      "<folium.vector_layers.CircleMarker object at 0x7fa192617710>\n",
      "<folium.vector_layers.CircleMarker object at 0x7fa192617748>\n",
      "<folium.vector_layers.CircleMarker object at 0x7fa192617780>\n",
      "<folium.vector_layers.CircleMarker object at 0x7fa1926177b8>\n",
      "<folium.vector_layers.CircleMarker object at 0x7fa1926177f0>\n",
      "<folium.vector_layers.CircleMarker object at 0x7fa192617828>\n",
      "<folium.vector_layers.CircleMarker object at 0x7fa192617860>\n",
      "<folium.vector_layers.CircleMarker object at 0x7fa192617898>\n",
      "<folium.vector_layers.CircleMarker object at 0x7fa1926178d0>\n",
      "<folium.vector_layers.CircleMarker object at 0x7fa192617908>\n",
      "<folium.vector_layers.CircleMarker object at 0x7fa192617940>\n",
      "<folium.vector_layers.CircleMarker object at 0x7fa192617978>\n",
      "<folium.vector_layers.CircleMarker object at 0x7fa1926179b0>\n",
      "<folium.vector_layers.CircleMarker object at 0x7fa1926179e8>\n",
      "<folium.vector_layers.CircleMarker object at 0x7fa192617a20>\n",
      "<folium.vector_layers.CircleMarker object at 0x7fa192617a58>\n",
      "<folium.vector_layers.CircleMarker object at 0x7fa192617a90>\n",
      "<folium.vector_layers.CircleMarker object at 0x7fa192617ac8>\n",
      "<folium.vector_layers.CircleMarker object at 0x7fa192617b00>\n",
      "<folium.vector_layers.CircleMarker object at 0x7fa192617b38>\n",
      "<folium.vector_layers.CircleMarker object at 0x7fa192617b70>\n",
      "<folium.vector_layers.CircleMarker object at 0x7fa192617ba8>\n",
      "<folium.vector_layers.CircleMarker object at 0x7fa192617be0>\n",
      "<folium.vector_layers.CircleMarker object at 0x7fa192617c18>\n",
      "<folium.vector_layers.CircleMarker object at 0x7fa192617c50>\n",
      "<folium.vector_layers.CircleMarker object at 0x7fa192617c88>\n",
      "<folium.vector_layers.CircleMarker object at 0x7fa192617cc0>\n",
      "<folium.vector_layers.CircleMarker object at 0x7fa192617cf8>\n",
      "<folium.vector_layers.CircleMarker object at 0x7fa192617d30>\n",
      "<folium.vector_layers.CircleMarker object at 0x7fa192617d68>\n",
      "<folium.vector_layers.CircleMarker object at 0x7fa192617da0>\n",
      "<folium.vector_layers.CircleMarker object at 0x7fa192617dd8>\n",
      "<folium.vector_layers.CircleMarker object at 0x7fa192617e10>\n",
      "<folium.vector_layers.CircleMarker object at 0x7fa192617e48>\n",
      "<folium.vector_layers.CircleMarker object at 0x7fa192617e80>\n",
      "<folium.vector_layers.CircleMarker object at 0x7fa192617eb8>\n",
      "<folium.vector_layers.CircleMarker object at 0x7fa192617ef0>\n",
      "<folium.vector_layers.CircleMarker object at 0x7fa192617f28>\n",
      "<folium.vector_layers.CircleMarker object at 0x7fa192617f60>\n",
      "<folium.vector_layers.CircleMarker object at 0x7fa192617f98>\n",
      "<folium.vector_layers.CircleMarker object at 0x7fa192617fd0>\n",
      "<folium.vector_layers.CircleMarker object at 0x7fa192617080>\n",
      "<folium.vector_layers.CircleMarker object at 0x7fa192627080>\n",
      "<folium.vector_layers.CircleMarker object at 0x7fa1926270b8>\n",
      "<folium.vector_layers.CircleMarker object at 0x7fa1926270f0>\n",
      "<folium.vector_layers.CircleMarker object at 0x7fa192627128>\n",
      "<folium.vector_layers.CircleMarker object at 0x7fa192627160>\n",
      "<folium.vector_layers.CircleMarker object at 0x7fa192627198>\n",
      "<folium.vector_layers.CircleMarker object at 0x7fa1926271d0>\n",
      "<folium.vector_layers.CircleMarker object at 0x7fa192627208>\n",
      "<folium.vector_layers.CircleMarker object at 0x7fa192627240>\n",
      "<folium.vector_layers.CircleMarker object at 0x7fa192627278>\n",
      "<folium.vector_layers.CircleMarker object at 0x7fa1926272b0>\n",
      "<folium.vector_layers.CircleMarker object at 0x7fa1926272e8>\n",
      "<folium.vector_layers.CircleMarker object at 0x7fa192627320>\n",
      "<folium.vector_layers.CircleMarker object at 0x7fa192627358>\n",
      "<folium.vector_layers.CircleMarker object at 0x7fa192627390>\n",
      "<folium.vector_layers.CircleMarker object at 0x7fa1926273c8>\n",
      "<folium.vector_layers.CircleMarker object at 0x7fa192627400>\n",
      "<folium.vector_layers.CircleMarker object at 0x7fa192627438>\n",
      "<folium.vector_layers.CircleMarker object at 0x7fa192627470>\n",
      "<folium.vector_layers.CircleMarker object at 0x7fa1926274a8>\n",
      "<folium.vector_layers.CircleMarker object at 0x7fa1926274e0>\n",
      "<folium.vector_layers.CircleMarker object at 0x7fa192627518>\n",
      "<folium.vector_layers.CircleMarker object at 0x7fa192627550>\n",
      "<folium.vector_layers.CircleMarker object at 0x7fa192627588>\n",
      "<folium.vector_layers.CircleMarker object at 0x7fa1926275c0>\n",
      "<folium.vector_layers.CircleMarker object at 0x7fa1926275f8>\n",
      "<folium.vector_layers.CircleMarker object at 0x7fa192627630>\n",
      "<folium.vector_layers.CircleMarker object at 0x7fa192627668>\n",
      "<folium.vector_layers.CircleMarker object at 0x7fa1926276a0>\n",
      "<folium.vector_layers.CircleMarker object at 0x7fa1926276d8>\n",
      "<folium.vector_layers.CircleMarker object at 0x7fa192627710>\n",
      "<folium.vector_layers.CircleMarker object at 0x7fa192627748>\n",
      "<folium.vector_layers.CircleMarker object at 0x7fa192627780>\n",
      "<folium.vector_layers.CircleMarker object at 0x7fa1926277b8>\n",
      "<folium.vector_layers.CircleMarker object at 0x7fa1926277f0>\n",
      "<folium.vector_layers.CircleMarker object at 0x7fa192627828>\n",
      "<folium.vector_layers.CircleMarker object at 0x7fa192627860>\n",
      "<folium.vector_layers.CircleMarker object at 0x7fa192627898>\n",
      "<folium.vector_layers.CircleMarker object at 0x7fa1926278d0>\n",
      "<folium.vector_layers.CircleMarker object at 0x7fa192627908>\n",
      "<folium.vector_layers.CircleMarker object at 0x7fa192627940>\n",
      "<folium.vector_layers.CircleMarker object at 0x7fa192627978>\n",
      "<folium.vector_layers.CircleMarker object at 0x7fa1926279b0>\n",
      "<folium.vector_layers.CircleMarker object at 0x7fa1926279e8>\n",
      "<folium.vector_layers.CircleMarker object at 0x7fa192627a20>\n",
      "<folium.vector_layers.CircleMarker object at 0x7fa192627a58>\n",
      "<folium.vector_layers.CircleMarker object at 0x7fa192627a90>\n",
      "<folium.vector_layers.CircleMarker object at 0x7fa192627ac8>\n",
      "<folium.vector_layers.CircleMarker object at 0x7fa192627b00>\n",
      "<folium.vector_layers.CircleMarker object at 0x7fa192627b38>\n",
      "<folium.vector_layers.CircleMarker object at 0x7fa192627b70>\n",
      "<folium.vector_layers.CircleMarker object at 0x7fa192627ba8>\n",
      "<folium.vector_layers.CircleMarker object at 0x7fa192627be0>\n",
      "<folium.vector_layers.CircleMarker object at 0x7fa192627c18>\n",
      "<folium.vector_layers.CircleMarker object at 0x7fa192627c50>\n",
      "<folium.vector_layers.CircleMarker object at 0x7fa192627c88>\n",
      "<folium.vector_layers.CircleMarker object at 0x7fa192627cc0>\n",
      "<folium.vector_layers.CircleMarker object at 0x7fa192627cf8>\n",
      "<folium.vector_layers.CircleMarker object at 0x7fa192627d30>\n",
      "<folium.vector_layers.CircleMarker object at 0x7fa192627d68>\n",
      "<folium.vector_layers.CircleMarker object at 0x7fa192627da0>\n",
      "<folium.vector_layers.CircleMarker object at 0x7fa192627dd8>\n",
      "<folium.vector_layers.CircleMarker object at 0x7fa192627e10>\n",
      "<folium.vector_layers.CircleMarker object at 0x7fa192627e48>\n",
      "<folium.vector_layers.CircleMarker object at 0x7fa192627e80>\n",
      "<folium.vector_layers.CircleMarker object at 0x7fa192627eb8>\n",
      "<folium.vector_layers.CircleMarker object at 0x7fa192627ef0>\n",
      "<folium.vector_layers.CircleMarker object at 0x7fa192627f28>\n",
      "<folium.vector_layers.CircleMarker object at 0x7fa192627f60>\n",
      "<folium.vector_layers.CircleMarker object at 0x7fa192627f98>\n",
      "<folium.vector_layers.CircleMarker object at 0x7fa192627fd0>\n",
      "<folium.vector_layers.CircleMarker object at 0x7fa192627048>\n",
      "<folium.vector_layers.CircleMarker object at 0x7fa192636080>\n",
      "<folium.vector_layers.CircleMarker object at 0x7fa1926360b8>\n",
      "<folium.vector_layers.CircleMarker object at 0x7fa1926360f0>\n",
      "<folium.vector_layers.CircleMarker object at 0x7fa192636128>\n",
      "<folium.vector_layers.CircleMarker object at 0x7fa192636160>\n",
      "<folium.vector_layers.CircleMarker object at 0x7fa192636198>\n",
      "<folium.vector_layers.CircleMarker object at 0x7fa1926361d0>\n",
      "<folium.vector_layers.CircleMarker object at 0x7fa192636208>\n",
      "<folium.vector_layers.CircleMarker object at 0x7fa192636240>\n",
      "<folium.vector_layers.CircleMarker object at 0x7fa192636278>\n",
      "<folium.vector_layers.CircleMarker object at 0x7fa1926362b0>\n",
      "<folium.vector_layers.CircleMarker object at 0x7fa1926362e8>\n",
      "<folium.vector_layers.CircleMarker object at 0x7fa192636320>\n",
      "<folium.vector_layers.CircleMarker object at 0x7fa192636358>\n",
      "<folium.vector_layers.CircleMarker object at 0x7fa192636390>\n",
      "<folium.vector_layers.CircleMarker object at 0x7fa1926363c8>\n",
      "<folium.vector_layers.CircleMarker object at 0x7fa192636400>\n",
      "<folium.vector_layers.CircleMarker object at 0x7fa192636438>\n",
      "<folium.vector_layers.CircleMarker object at 0x7fa192636470>\n",
      "<folium.vector_layers.CircleMarker object at 0x7fa1926364a8>\n",
      "<folium.vector_layers.CircleMarker object at 0x7fa1926364e0>\n",
      "<folium.vector_layers.CircleMarker object at 0x7fa192636518>\n",
      "<folium.vector_layers.CircleMarker object at 0x7fa192636550>\n",
      "<folium.vector_layers.CircleMarker object at 0x7fa192636588>\n",
      "<folium.vector_layers.CircleMarker object at 0x7fa1926365c0>\n",
      "<folium.vector_layers.CircleMarker object at 0x7fa1926365f8>\n",
      "<folium.vector_layers.CircleMarker object at 0x7fa192636630>\n",
      "<folium.vector_layers.CircleMarker object at 0x7fa192636668>\n",
      "<folium.vector_layers.CircleMarker object at 0x7fa1926366a0>\n",
      "<folium.vector_layers.CircleMarker object at 0x7fa1926366d8>\n",
      "<folium.vector_layers.CircleMarker object at 0x7fa192636710>\n",
      "<folium.vector_layers.CircleMarker object at 0x7fa192636748>\n",
      "<folium.vector_layers.CircleMarker object at 0x7fa192636780>\n",
      "<folium.vector_layers.CircleMarker object at 0x7fa1926367b8>\n",
      "<folium.vector_layers.CircleMarker object at 0x7fa1926367f0>\n",
      "<folium.vector_layers.CircleMarker object at 0x7fa192636828>\n",
      "<folium.vector_layers.CircleMarker object at 0x7fa192636860>\n",
      "<folium.vector_layers.CircleMarker object at 0x7fa192636898>\n",
      "<folium.vector_layers.CircleMarker object at 0x7fa1926368d0>\n",
      "<folium.vector_layers.CircleMarker object at 0x7fa192636908>\n",
      "<folium.vector_layers.CircleMarker object at 0x7fa192636940>\n",
      "<folium.vector_layers.CircleMarker object at 0x7fa192636978>\n",
      "<folium.vector_layers.CircleMarker object at 0x7fa1926369b0>\n",
      "<folium.vector_layers.CircleMarker object at 0x7fa1926369e8>\n",
      "<folium.vector_layers.CircleMarker object at 0x7fa192636a20>\n",
      "<folium.vector_layers.CircleMarker object at 0x7fa192636a58>\n",
      "<folium.vector_layers.CircleMarker object at 0x7fa192636a90>\n",
      "<folium.vector_layers.CircleMarker object at 0x7fa192636ac8>\n",
      "<folium.vector_layers.CircleMarker object at 0x7fa192636b00>\n",
      "<folium.vector_layers.CircleMarker object at 0x7fa192636b38>\n",
      "<folium.vector_layers.CircleMarker object at 0x7fa192636b70>\n",
      "<folium.vector_layers.CircleMarker object at 0x7fa192636ba8>\n",
      "<folium.vector_layers.CircleMarker object at 0x7fa192636be0>\n",
      "<folium.vector_layers.CircleMarker object at 0x7fa192636c18>\n",
      "<folium.vector_layers.CircleMarker object at 0x7fa192636c50>\n",
      "<folium.vector_layers.CircleMarker object at 0x7fa192636c88>\n",
      "<folium.vector_layers.CircleMarker object at 0x7fa192636cc0>\n",
      "<folium.vector_layers.CircleMarker object at 0x7fa192636cf8>\n",
      "<folium.vector_layers.CircleMarker object at 0x7fa192636d30>\n",
      "<folium.vector_layers.CircleMarker object at 0x7fa192636d68>\n",
      "<folium.vector_layers.CircleMarker object at 0x7fa192636da0>\n",
      "<folium.vector_layers.CircleMarker object at 0x7fa192636dd8>\n",
      "<folium.vector_layers.CircleMarker object at 0x7fa192636e10>\n",
      "<folium.vector_layers.CircleMarker object at 0x7fa192636e48>\n",
      "<folium.vector_layers.CircleMarker object at 0x7fa192636e80>\n",
      "<folium.vector_layers.CircleMarker object at 0x7fa192636eb8>\n",
      "<folium.vector_layers.CircleMarker object at 0x7fa192636ef0>\n",
      "<folium.vector_layers.CircleMarker object at 0x7fa192636f28>\n",
      "<folium.vector_layers.CircleMarker object at 0x7fa192636f60>\n",
      "<folium.vector_layers.CircleMarker object at 0x7fa192636f98>\n",
      "<folium.vector_layers.CircleMarker object at 0x7fa192636fd0>\n",
      "<folium.vector_layers.CircleMarker object at 0x7fa192636048>\n",
      "<folium.vector_layers.CircleMarker object at 0x7fa192647080>\n",
      "<folium.vector_layers.CircleMarker object at 0x7fa1926470b8>\n",
      "<folium.vector_layers.CircleMarker object at 0x7fa1926470f0>\n",
      "<folium.vector_layers.CircleMarker object at 0x7fa192647128>\n",
      "<folium.vector_layers.CircleMarker object at 0x7fa192647160>\n",
      "<folium.vector_layers.CircleMarker object at 0x7fa192647198>\n",
      "<folium.vector_layers.CircleMarker object at 0x7fa1926471d0>\n",
      "<folium.vector_layers.CircleMarker object at 0x7fa192647208>\n",
      "<folium.vector_layers.CircleMarker object at 0x7fa192647240>\n",
      "<folium.vector_layers.CircleMarker object at 0x7fa192647278>\n",
      "<folium.vector_layers.CircleMarker object at 0x7fa1926472b0>\n",
      "<folium.vector_layers.CircleMarker object at 0x7fa1926472e8>\n",
      "<folium.vector_layers.CircleMarker object at 0x7fa192647320>\n",
      "<folium.vector_layers.CircleMarker object at 0x7fa192647358>\n",
      "<folium.vector_layers.CircleMarker object at 0x7fa192647390>\n",
      "<folium.vector_layers.CircleMarker object at 0x7fa1926473c8>\n",
      "<folium.vector_layers.CircleMarker object at 0x7fa192647400>\n",
      "<folium.vector_layers.CircleMarker object at 0x7fa192647438>\n",
      "<folium.vector_layers.CircleMarker object at 0x7fa192647470>\n",
      "<folium.vector_layers.CircleMarker object at 0x7fa1926474a8>\n",
      "<folium.vector_layers.CircleMarker object at 0x7fa1926474e0>\n",
      "<folium.vector_layers.CircleMarker object at 0x7fa192647518>\n",
      "<folium.vector_layers.CircleMarker object at 0x7fa192647550>\n",
      "<folium.vector_layers.CircleMarker object at 0x7fa192647588>\n",
      "<folium.vector_layers.CircleMarker object at 0x7fa1926475c0>\n",
      "<folium.vector_layers.CircleMarker object at 0x7fa1926475f8>\n",
      "<folium.vector_layers.CircleMarker object at 0x7fa192647630>\n",
      "<folium.vector_layers.CircleMarker object at 0x7fa192647668>\n",
      "<folium.vector_layers.CircleMarker object at 0x7fa1926476a0>\n",
      "<folium.vector_layers.CircleMarker object at 0x7fa1926476d8>\n",
      "<folium.vector_layers.CircleMarker object at 0x7fa192647710>\n",
      "<folium.vector_layers.CircleMarker object at 0x7fa192647748>\n",
      "<folium.vector_layers.CircleMarker object at 0x7fa192647780>\n",
      "<folium.vector_layers.CircleMarker object at 0x7fa1926477b8>\n",
      "<folium.vector_layers.CircleMarker object at 0x7fa1926477f0>\n",
      "<folium.vector_layers.CircleMarker object at 0x7fa192647828>\n",
      "<folium.vector_layers.CircleMarker object at 0x7fa192647860>\n",
      "<folium.vector_layers.CircleMarker object at 0x7fa192647898>\n",
      "<folium.vector_layers.CircleMarker object at 0x7fa1926478d0>\n",
      "<folium.vector_layers.CircleMarker object at 0x7fa192647908>\n",
      "<folium.vector_layers.CircleMarker object at 0x7fa192647940>\n",
      "<folium.vector_layers.CircleMarker object at 0x7fa192647978>\n",
      "<folium.vector_layers.CircleMarker object at 0x7fa1926479b0>\n",
      "<folium.vector_layers.CircleMarker object at 0x7fa1926479e8>\n",
      "<folium.vector_layers.CircleMarker object at 0x7fa192647a20>\n",
      "<folium.vector_layers.CircleMarker object at 0x7fa192647a58>\n",
      "<folium.vector_layers.CircleMarker object at 0x7fa192647a90>\n",
      "<folium.vector_layers.CircleMarker object at 0x7fa192647ac8>\n",
      "<folium.vector_layers.CircleMarker object at 0x7fa192647b00>\n",
      "<folium.vector_layers.CircleMarker object at 0x7fa192647b38>\n",
      "<folium.vector_layers.CircleMarker object at 0x7fa192647b70>\n",
      "<folium.vector_layers.CircleMarker object at 0x7fa192647ba8>\n",
      "<folium.vector_layers.CircleMarker object at 0x7fa192647be0>\n",
      "<folium.vector_layers.CircleMarker object at 0x7fa192647c18>\n",
      "<folium.vector_layers.CircleMarker object at 0x7fa192647c50>\n",
      "<folium.vector_layers.CircleMarker object at 0x7fa192647c88>\n",
      "<folium.vector_layers.CircleMarker object at 0x7fa192647cc0>\n",
      "<folium.vector_layers.CircleMarker object at 0x7fa192647cf8>\n",
      "<folium.vector_layers.CircleMarker object at 0x7fa192647d30>\n",
      "<folium.vector_layers.CircleMarker object at 0x7fa192647d68>\n",
      "<folium.vector_layers.CircleMarker object at 0x7fa192647da0>\n",
      "<folium.vector_layers.CircleMarker object at 0x7fa192647dd8>\n",
      "<folium.vector_layers.CircleMarker object at 0x7fa192647e10>\n",
      "<folium.vector_layers.CircleMarker object at 0x7fa192647e48>\n",
      "<folium.vector_layers.CircleMarker object at 0x7fa192647e80>\n",
      "<folium.vector_layers.CircleMarker object at 0x7fa192647eb8>\n",
      "<folium.vector_layers.CircleMarker object at 0x7fa192647ef0>\n",
      "<folium.vector_layers.CircleMarker object at 0x7fa192647f28>\n",
      "<folium.vector_layers.CircleMarker object at 0x7fa192647f60>\n",
      "<folium.vector_layers.CircleMarker object at 0x7fa192647f98>\n",
      "<folium.vector_layers.CircleMarker object at 0x7fa192647fd0>\n",
      "<folium.vector_layers.CircleMarker object at 0x7fa192647048>\n",
      "<folium.vector_layers.CircleMarker object at 0x7fa1925d6080>\n",
      "<folium.vector_layers.CircleMarker object at 0x7fa1925d60b8>\n",
      "<folium.vector_layers.CircleMarker object at 0x7fa1925d60f0>\n",
      "<folium.vector_layers.CircleMarker object at 0x7fa1925d6128>\n",
      "<folium.vector_layers.CircleMarker object at 0x7fa1925d6160>\n",
      "<folium.vector_layers.CircleMarker object at 0x7fa1925d6198>\n",
      "<folium.vector_layers.CircleMarker object at 0x7fa1925d61d0>\n",
      "<folium.vector_layers.CircleMarker object at 0x7fa1925d6208>\n",
      "<folium.vector_layers.CircleMarker object at 0x7fa1925d6240>\n",
      "<folium.vector_layers.CircleMarker object at 0x7fa1925d6278>\n",
      "<folium.vector_layers.CircleMarker object at 0x7fa1925d62b0>\n",
      "<folium.vector_layers.CircleMarker object at 0x7fa1925d62e8>\n",
      "<folium.vector_layers.CircleMarker object at 0x7fa1925d6320>\n",
      "<folium.vector_layers.CircleMarker object at 0x7fa1925d6358>\n",
      "<folium.vector_layers.CircleMarker object at 0x7fa1925d6390>\n",
      "<folium.vector_layers.CircleMarker object at 0x7fa1925d63c8>\n",
      "<folium.vector_layers.CircleMarker object at 0x7fa1925d6400>\n",
      "<folium.vector_layers.CircleMarker object at 0x7fa1925d6438>\n",
      "<folium.vector_layers.CircleMarker object at 0x7fa1925d6470>\n",
      "<folium.vector_layers.CircleMarker object at 0x7fa1925d64a8>\n",
      "<folium.vector_layers.CircleMarker object at 0x7fa1925d64e0>\n",
      "<folium.vector_layers.CircleMarker object at 0x7fa1925d6518>\n",
      "<folium.vector_layers.CircleMarker object at 0x7fa1925d6550>\n",
      "<folium.vector_layers.CircleMarker object at 0x7fa1925d6588>\n",
      "<folium.vector_layers.CircleMarker object at 0x7fa1925d65c0>\n",
      "<folium.vector_layers.CircleMarker object at 0x7fa1925d65f8>\n",
      "<folium.vector_layers.CircleMarker object at 0x7fa1925d6630>\n",
      "<folium.vector_layers.CircleMarker object at 0x7fa1925d6668>\n",
      "<folium.vector_layers.CircleMarker object at 0x7fa1925d66a0>\n",
      "<folium.vector_layers.CircleMarker object at 0x7fa1925d66d8>\n",
      "<folium.vector_layers.CircleMarker object at 0x7fa1925d6710>\n",
      "<folium.vector_layers.CircleMarker object at 0x7fa1925d6748>\n",
      "<folium.vector_layers.CircleMarker object at 0x7fa1925d6780>\n",
      "<folium.vector_layers.CircleMarker object at 0x7fa1925d67b8>\n",
      "<folium.vector_layers.CircleMarker object at 0x7fa1925d67f0>\n",
      "<folium.vector_layers.CircleMarker object at 0x7fa1925d6828>\n",
      "<folium.vector_layers.CircleMarker object at 0x7fa1925d6860>\n",
      "<folium.vector_layers.CircleMarker object at 0x7fa1925d6898>\n",
      "<folium.vector_layers.CircleMarker object at 0x7fa1925d68d0>\n",
      "<folium.vector_layers.CircleMarker object at 0x7fa1925d6908>\n",
      "<folium.vector_layers.CircleMarker object at 0x7fa1925d6940>\n",
      "<folium.vector_layers.CircleMarker object at 0x7fa1925d6978>\n",
      "<folium.vector_layers.CircleMarker object at 0x7fa1925d69b0>\n",
      "<folium.vector_layers.CircleMarker object at 0x7fa1925d69e8>\n",
      "<folium.vector_layers.CircleMarker object at 0x7fa1925d6a20>\n",
      "<folium.vector_layers.CircleMarker object at 0x7fa1925d6a58>\n",
      "<folium.vector_layers.CircleMarker object at 0x7fa1925d6a90>\n",
      "<folium.vector_layers.CircleMarker object at 0x7fa1925d6ac8>\n",
      "<folium.vector_layers.CircleMarker object at 0x7fa1925d6b00>\n",
      "<folium.vector_layers.CircleMarker object at 0x7fa1925d6b38>\n",
      "<folium.vector_layers.CircleMarker object at 0x7fa1925d6b70>\n",
      "<folium.vector_layers.CircleMarker object at 0x7fa1925d6ba8>\n",
      "<folium.vector_layers.CircleMarker object at 0x7fa1925d6be0>\n",
      "<folium.vector_layers.CircleMarker object at 0x7fa1925d6c18>\n",
      "<folium.vector_layers.CircleMarker object at 0x7fa1925d6c50>\n",
      "<folium.vector_layers.CircleMarker object at 0x7fa1925d6c88>\n",
      "<folium.vector_layers.CircleMarker object at 0x7fa1925d6cc0>\n",
      "<folium.vector_layers.CircleMarker object at 0x7fa1925d6cf8>\n",
      "<folium.vector_layers.CircleMarker object at 0x7fa1925d6d30>\n",
      "<folium.vector_layers.CircleMarker object at 0x7fa1925d6d68>\n",
      "<folium.vector_layers.CircleMarker object at 0x7fa1925d6da0>\n",
      "<folium.vector_layers.CircleMarker object at 0x7fa1925d6dd8>\n",
      "<folium.vector_layers.CircleMarker object at 0x7fa1925d6e10>\n",
      "<folium.vector_layers.CircleMarker object at 0x7fa1925d6e48>\n",
      "<folium.vector_layers.CircleMarker object at 0x7fa1925d6e80>\n",
      "<folium.vector_layers.CircleMarker object at 0x7fa1925d6eb8>\n",
      "<folium.vector_layers.CircleMarker object at 0x7fa1925d6ef0>\n",
      "<folium.vector_layers.CircleMarker object at 0x7fa1925d6f28>\n",
      "<folium.vector_layers.CircleMarker object at 0x7fa1925d6f60>\n",
      "<folium.vector_layers.CircleMarker object at 0x7fa1925d6f98>\n",
      "<folium.vector_layers.CircleMarker object at 0x7fa1925d6fd0>\n",
      "<folium.vector_layers.CircleMarker object at 0x7fa1925d6048>\n",
      "<folium.vector_layers.CircleMarker object at 0x7fa1925e6080>\n",
      "<folium.vector_layers.CircleMarker object at 0x7fa1925e60b8>\n",
      "<folium.vector_layers.CircleMarker object at 0x7fa1925e60f0>\n",
      "<folium.vector_layers.CircleMarker object at 0x7fa1925e6128>\n",
      "<folium.vector_layers.CircleMarker object at 0x7fa1925e6160>\n",
      "<folium.vector_layers.CircleMarker object at 0x7fa1925e6198>\n",
      "<folium.vector_layers.CircleMarker object at 0x7fa1925e61d0>\n",
      "<folium.vector_layers.CircleMarker object at 0x7fa1925e6208>\n",
      "<folium.vector_layers.CircleMarker object at 0x7fa1925e6240>\n",
      "<folium.vector_layers.CircleMarker object at 0x7fa1925e6278>\n",
      "<folium.vector_layers.CircleMarker object at 0x7fa1925e62b0>\n",
      "<folium.vector_layers.CircleMarker object at 0x7fa1925e62e8>\n",
      "<folium.vector_layers.CircleMarker object at 0x7fa1925e6320>\n",
      "<folium.vector_layers.CircleMarker object at 0x7fa1925e6358>\n",
      "<folium.vector_layers.CircleMarker object at 0x7fa1925e6390>\n",
      "<folium.vector_layers.CircleMarker object at 0x7fa1925e63c8>\n",
      "<folium.vector_layers.CircleMarker object at 0x7fa1925e6400>\n",
      "<folium.vector_layers.CircleMarker object at 0x7fa1925e6438>\n",
      "<folium.vector_layers.CircleMarker object at 0x7fa1925e6470>\n",
      "<folium.vector_layers.CircleMarker object at 0x7fa1925e64a8>\n",
      "<folium.vector_layers.CircleMarker object at 0x7fa1925e64e0>\n",
      "<folium.vector_layers.CircleMarker object at 0x7fa1925e6518>\n",
      "<folium.vector_layers.CircleMarker object at 0x7fa1925e6550>\n",
      "<folium.vector_layers.CircleMarker object at 0x7fa1925e6588>\n",
      "<folium.vector_layers.CircleMarker object at 0x7fa1925e65c0>\n",
      "<folium.vector_layers.CircleMarker object at 0x7fa1925e65f8>\n",
      "<folium.vector_layers.CircleMarker object at 0x7fa1925e6630>\n",
      "<folium.vector_layers.CircleMarker object at 0x7fa1925e6668>\n",
      "<folium.vector_layers.CircleMarker object at 0x7fa1925e66a0>\n",
      "<folium.vector_layers.CircleMarker object at 0x7fa1925e66d8>\n",
      "<folium.vector_layers.CircleMarker object at 0x7fa1925e6710>\n",
      "<folium.vector_layers.CircleMarker object at 0x7fa1925e6748>\n",
      "<folium.vector_layers.CircleMarker object at 0x7fa1925e6780>\n",
      "<folium.vector_layers.CircleMarker object at 0x7fa1925e67b8>\n",
      "<folium.vector_layers.CircleMarker object at 0x7fa1925e67f0>\n",
      "<folium.vector_layers.CircleMarker object at 0x7fa1925e6828>\n",
      "<folium.vector_layers.CircleMarker object at 0x7fa1925e6860>\n",
      "<folium.vector_layers.CircleMarker object at 0x7fa1925e6898>\n",
      "<folium.vector_layers.CircleMarker object at 0x7fa1925e68d0>\n",
      "<folium.vector_layers.CircleMarker object at 0x7fa1925e6908>\n",
      "<folium.vector_layers.CircleMarker object at 0x7fa1925e6940>\n",
      "<folium.vector_layers.CircleMarker object at 0x7fa1925e6978>\n",
      "<folium.vector_layers.CircleMarker object at 0x7fa1925e69b0>\n",
      "<folium.vector_layers.CircleMarker object at 0x7fa1925e69e8>\n",
      "<folium.vector_layers.CircleMarker object at 0x7fa1925e6a20>\n",
      "<folium.vector_layers.CircleMarker object at 0x7fa1925e6a58>\n",
      "<folium.vector_layers.CircleMarker object at 0x7fa1925e6a90>\n",
      "<folium.vector_layers.CircleMarker object at 0x7fa1925e6ac8>\n",
      "<folium.vector_layers.CircleMarker object at 0x7fa1925e6b00>\n",
      "<folium.vector_layers.CircleMarker object at 0x7fa1925e6b38>\n",
      "<folium.vector_layers.CircleMarker object at 0x7fa1925e6b70>\n",
      "<folium.vector_layers.CircleMarker object at 0x7fa1925e6ba8>\n",
      "<folium.vector_layers.CircleMarker object at 0x7fa1925e6be0>\n",
      "<folium.vector_layers.CircleMarker object at 0x7fa1925e6c18>\n",
      "<folium.vector_layers.CircleMarker object at 0x7fa1925e6c50>\n",
      "<folium.vector_layers.CircleMarker object at 0x7fa1925e6c88>\n",
      "<folium.vector_layers.CircleMarker object at 0x7fa1925e6cc0>\n",
      "<folium.vector_layers.CircleMarker object at 0x7fa1925e6cf8>\n",
      "<folium.vector_layers.CircleMarker object at 0x7fa1925e6d30>\n",
      "<folium.vector_layers.CircleMarker object at 0x7fa1925e6d68>\n",
      "<folium.vector_layers.CircleMarker object at 0x7fa1925e6da0>\n",
      "<folium.vector_layers.CircleMarker object at 0x7fa1925e6dd8>\n",
      "<folium.vector_layers.CircleMarker object at 0x7fa1925e6e10>\n",
      "<folium.vector_layers.CircleMarker object at 0x7fa1925e6e48>\n",
      "<folium.vector_layers.CircleMarker object at 0x7fa1925e6e80>\n",
      "<folium.vector_layers.CircleMarker object at 0x7fa1925e6eb8>\n",
      "<folium.vector_layers.CircleMarker object at 0x7fa1925e6ef0>\n",
      "<folium.vector_layers.CircleMarker object at 0x7fa1925e6f28>\n",
      "<folium.vector_layers.CircleMarker object at 0x7fa1925e6f60>\n",
      "<folium.vector_layers.CircleMarker object at 0x7fa1925e6f98>\n",
      "<folium.vector_layers.CircleMarker object at 0x7fa1925e6fd0>\n",
      "<folium.vector_layers.CircleMarker object at 0x7fa1925e6048>\n",
      "<folium.vector_layers.CircleMarker object at 0x7fa1925f6080>\n",
      "<folium.vector_layers.CircleMarker object at 0x7fa1925f60b8>\n",
      "<folium.vector_layers.CircleMarker object at 0x7fa1925f60f0>\n",
      "<folium.vector_layers.CircleMarker object at 0x7fa1925f6128>\n",
      "<folium.vector_layers.CircleMarker object at 0x7fa1925f6160>\n",
      "<folium.vector_layers.CircleMarker object at 0x7fa1925f6198>\n",
      "<folium.vector_layers.CircleMarker object at 0x7fa1925f61d0>\n",
      "<folium.vector_layers.CircleMarker object at 0x7fa1925f6208>\n",
      "<folium.vector_layers.CircleMarker object at 0x7fa1925f6240>\n",
      "<folium.vector_layers.CircleMarker object at 0x7fa1925f6278>\n",
      "<folium.vector_layers.CircleMarker object at 0x7fa1925f62b0>\n",
      "<folium.vector_layers.CircleMarker object at 0x7fa1925f62e8>\n",
      "<folium.vector_layers.CircleMarker object at 0x7fa1925f6320>\n",
      "<folium.vector_layers.CircleMarker object at 0x7fa1925f6358>\n",
      "<folium.vector_layers.CircleMarker object at 0x7fa1925f6390>\n",
      "<folium.vector_layers.CircleMarker object at 0x7fa1925f63c8>\n",
      "<folium.vector_layers.CircleMarker object at 0x7fa1925f6400>\n",
      "<folium.vector_layers.CircleMarker object at 0x7fa1925f6438>\n",
      "<folium.vector_layers.CircleMarker object at 0x7fa1925f6470>\n",
      "<folium.vector_layers.CircleMarker object at 0x7fa1925f64a8>\n",
      "<folium.vector_layers.CircleMarker object at 0x7fa1925f64e0>\n",
      "<folium.vector_layers.CircleMarker object at 0x7fa1925f6518>\n",
      "<folium.vector_layers.CircleMarker object at 0x7fa1925f6550>\n",
      "<folium.vector_layers.CircleMarker object at 0x7fa1925f6588>\n",
      "<folium.vector_layers.CircleMarker object at 0x7fa1925f65c0>\n",
      "<folium.vector_layers.CircleMarker object at 0x7fa1925f65f8>\n",
      "<folium.vector_layers.CircleMarker object at 0x7fa1925f6630>\n",
      "<folium.vector_layers.CircleMarker object at 0x7fa1925f6668>\n",
      "<folium.vector_layers.CircleMarker object at 0x7fa1925f66a0>\n",
      "<folium.vector_layers.CircleMarker object at 0x7fa1925f66d8>\n",
      "<folium.vector_layers.CircleMarker object at 0x7fa1925f6710>\n",
      "<folium.vector_layers.CircleMarker object at 0x7fa1925f6748>\n",
      "<folium.vector_layers.CircleMarker object at 0x7fa1925f6780>\n",
      "<folium.vector_layers.CircleMarker object at 0x7fa1925f67b8>\n",
      "<folium.vector_layers.CircleMarker object at 0x7fa1925f67f0>\n",
      "<folium.vector_layers.CircleMarker object at 0x7fa1925f6828>\n",
      "<folium.vector_layers.CircleMarker object at 0x7fa1925f6860>\n",
      "<folium.vector_layers.CircleMarker object at 0x7fa1925f6898>\n",
      "<folium.vector_layers.CircleMarker object at 0x7fa1925f68d0>\n",
      "<folium.vector_layers.CircleMarker object at 0x7fa1925f6908>\n",
      "<folium.vector_layers.CircleMarker object at 0x7fa1925f6940>\n",
      "<folium.vector_layers.CircleMarker object at 0x7fa1925f6978>\n",
      "<folium.vector_layers.CircleMarker object at 0x7fa1925f69b0>\n",
      "<folium.vector_layers.CircleMarker object at 0x7fa1925f69e8>\n",
      "<folium.vector_layers.CircleMarker object at 0x7fa1925f6a20>\n",
      "<folium.vector_layers.CircleMarker object at 0x7fa1925f6a58>\n",
      "<folium.vector_layers.CircleMarker object at 0x7fa1925f6a90>\n",
      "<folium.vector_layers.CircleMarker object at 0x7fa1925f6ac8>\n",
      "<folium.vector_layers.CircleMarker object at 0x7fa1925f6b00>\n",
      "<folium.vector_layers.CircleMarker object at 0x7fa1925f6b38>\n",
      "<folium.vector_layers.CircleMarker object at 0x7fa1925f6b70>\n",
      "<folium.vector_layers.CircleMarker object at 0x7fa1925f6ba8>\n",
      "<folium.vector_layers.CircleMarker object at 0x7fa1925f6be0>\n",
      "<folium.vector_layers.CircleMarker object at 0x7fa1925f6c18>\n",
      "<folium.vector_layers.CircleMarker object at 0x7fa1925f6c50>\n",
      "<folium.vector_layers.CircleMarker object at 0x7fa1925f6c88>\n",
      "<folium.vector_layers.CircleMarker object at 0x7fa1925f6cc0>\n",
      "<folium.vector_layers.CircleMarker object at 0x7fa1925f6cf8>\n",
      "<folium.vector_layers.CircleMarker object at 0x7fa1925f6d30>\n",
      "<folium.vector_layers.CircleMarker object at 0x7fa1925f6d68>\n",
      "<folium.vector_layers.CircleMarker object at 0x7fa1925f6da0>\n",
      "<folium.vector_layers.CircleMarker object at 0x7fa1925f6dd8>\n",
      "<folium.vector_layers.CircleMarker object at 0x7fa1925f6e10>\n",
      "<folium.vector_layers.CircleMarker object at 0x7fa1925f6e48>\n",
      "<folium.vector_layers.CircleMarker object at 0x7fa1925f6e80>\n",
      "<folium.vector_layers.CircleMarker object at 0x7fa1925f6eb8>\n",
      "<folium.vector_layers.CircleMarker object at 0x7fa1925f6ef0>\n",
      "<folium.vector_layers.CircleMarker object at 0x7fa1925f6f28>\n",
      "<folium.vector_layers.CircleMarker object at 0x7fa1925f6f60>\n",
      "<folium.vector_layers.CircleMarker object at 0x7fa1925f6f98>\n",
      "<folium.vector_layers.CircleMarker object at 0x7fa1925f6fd0>\n",
      "<folium.vector_layers.CircleMarker object at 0x7fa1925f6048>\n",
      "<folium.vector_layers.CircleMarker object at 0x7fa192607080>\n",
      "<folium.vector_layers.CircleMarker object at 0x7fa1926070b8>\n",
      "<folium.vector_layers.CircleMarker object at 0x7fa1926070f0>\n",
      "<folium.vector_layers.CircleMarker object at 0x7fa192607128>\n",
      "<folium.vector_layers.CircleMarker object at 0x7fa192607160>\n",
      "<folium.vector_layers.CircleMarker object at 0x7fa192607198>\n",
      "<folium.vector_layers.CircleMarker object at 0x7fa1926071d0>\n",
      "<folium.vector_layers.CircleMarker object at 0x7fa192607208>\n",
      "<folium.vector_layers.CircleMarker object at 0x7fa192607240>\n",
      "<folium.vector_layers.CircleMarker object at 0x7fa192607278>\n",
      "<folium.vector_layers.CircleMarker object at 0x7fa1926072b0>\n",
      "<folium.vector_layers.CircleMarker object at 0x7fa1926072e8>\n",
      "<folium.vector_layers.CircleMarker object at 0x7fa192607320>\n",
      "<folium.vector_layers.CircleMarker object at 0x7fa192607358>\n",
      "<folium.vector_layers.CircleMarker object at 0x7fa192607390>\n",
      "<folium.vector_layers.CircleMarker object at 0x7fa1926073c8>\n",
      "<folium.vector_layers.CircleMarker object at 0x7fa192607400>\n",
      "<folium.vector_layers.CircleMarker object at 0x7fa192607438>\n",
      "<folium.vector_layers.CircleMarker object at 0x7fa192607470>\n",
      "<folium.vector_layers.CircleMarker object at 0x7fa1926074a8>\n",
      "<folium.vector_layers.CircleMarker object at 0x7fa1926074e0>\n",
      "<folium.vector_layers.CircleMarker object at 0x7fa192607518>\n",
      "<folium.vector_layers.CircleMarker object at 0x7fa192607550>\n",
      "<folium.vector_layers.CircleMarker object at 0x7fa192607588>\n",
      "<folium.vector_layers.CircleMarker object at 0x7fa1926075c0>\n",
      "<folium.vector_layers.CircleMarker object at 0x7fa1926075f8>\n",
      "<folium.vector_layers.CircleMarker object at 0x7fa192607630>\n",
      "<folium.vector_layers.CircleMarker object at 0x7fa192607668>\n",
      "<folium.vector_layers.CircleMarker object at 0x7fa1926076a0>\n",
      "<folium.vector_layers.CircleMarker object at 0x7fa1926076d8>\n",
      "<folium.vector_layers.CircleMarker object at 0x7fa192607710>\n",
      "<folium.vector_layers.CircleMarker object at 0x7fa192607748>\n",
      "<folium.vector_layers.CircleMarker object at 0x7fa192607780>\n",
      "<folium.vector_layers.CircleMarker object at 0x7fa1926077b8>\n",
      "<folium.vector_layers.CircleMarker object at 0x7fa1926077f0>\n",
      "<folium.vector_layers.CircleMarker object at 0x7fa192607828>\n",
      "<folium.vector_layers.CircleMarker object at 0x7fa192607860>\n",
      "<folium.vector_layers.CircleMarker object at 0x7fa192607898>\n",
      "<folium.vector_layers.CircleMarker object at 0x7fa1926078d0>\n",
      "<folium.vector_layers.CircleMarker object at 0x7fa192607908>\n",
      "<folium.vector_layers.CircleMarker object at 0x7fa192607940>\n",
      "<folium.vector_layers.CircleMarker object at 0x7fa192607978>\n",
      "<folium.vector_layers.CircleMarker object at 0x7fa1926079b0>\n",
      "<folium.vector_layers.CircleMarker object at 0x7fa1926079e8>\n",
      "<folium.vector_layers.CircleMarker object at 0x7fa192607a20>\n",
      "<folium.vector_layers.CircleMarker object at 0x7fa192607a58>\n",
      "<folium.vector_layers.CircleMarker object at 0x7fa192607a90>\n",
      "<folium.vector_layers.CircleMarker object at 0x7fa192607ac8>\n",
      "<folium.vector_layers.CircleMarker object at 0x7fa192607b00>\n",
      "<folium.vector_layers.CircleMarker object at 0x7fa192607b38>\n",
      "<folium.vector_layers.CircleMarker object at 0x7fa192607b70>\n",
      "<folium.vector_layers.CircleMarker object at 0x7fa192607ba8>\n",
      "<folium.vector_layers.CircleMarker object at 0x7fa192607be0>\n",
      "<folium.vector_layers.CircleMarker object at 0x7fa192607c18>\n",
      "<folium.vector_layers.CircleMarker object at 0x7fa192607c50>\n",
      "<folium.vector_layers.CircleMarker object at 0x7fa192607c88>\n",
      "<folium.vector_layers.CircleMarker object at 0x7fa192607cc0>\n",
      "<folium.vector_layers.CircleMarker object at 0x7fa192607cf8>\n",
      "<folium.vector_layers.CircleMarker object at 0x7fa192607d30>\n",
      "<folium.vector_layers.CircleMarker object at 0x7fa192607d68>\n",
      "<folium.vector_layers.CircleMarker object at 0x7fa192607da0>\n",
      "<folium.vector_layers.CircleMarker object at 0x7fa192607dd8>\n",
      "<folium.vector_layers.CircleMarker object at 0x7fa192607e10>\n",
      "<folium.vector_layers.CircleMarker object at 0x7fa192607e48>\n",
      "<folium.vector_layers.CircleMarker object at 0x7fa192607e80>\n",
      "<folium.vector_layers.CircleMarker object at 0x7fa192607eb8>\n",
      "<folium.vector_layers.CircleMarker object at 0x7fa192607ef0>\n",
      "<folium.vector_layers.CircleMarker object at 0x7fa192607f28>\n",
      "<folium.vector_layers.CircleMarker object at 0x7fa192607f60>\n",
      "<folium.vector_layers.CircleMarker object at 0x7fa192607f98>\n",
      "<folium.vector_layers.CircleMarker object at 0x7fa192607fd0>\n",
      "<folium.vector_layers.CircleMarker object at 0x7fa192607048>\n",
      "<folium.vector_layers.CircleMarker object at 0x7fa192496080>\n",
      "<folium.vector_layers.CircleMarker object at 0x7fa1924960b8>\n",
      "<folium.vector_layers.CircleMarker object at 0x7fa1924960f0>\n",
      "<folium.vector_layers.CircleMarker object at 0x7fa192496128>\n",
      "<folium.vector_layers.CircleMarker object at 0x7fa192496160>\n",
      "<folium.vector_layers.CircleMarker object at 0x7fa192496198>\n",
      "<folium.vector_layers.CircleMarker object at 0x7fa1924961d0>\n",
      "<folium.vector_layers.CircleMarker object at 0x7fa192496208>\n",
      "<folium.vector_layers.CircleMarker object at 0x7fa192496240>\n",
      "<folium.vector_layers.CircleMarker object at 0x7fa192496278>\n",
      "<folium.vector_layers.CircleMarker object at 0x7fa1924962b0>\n",
      "<folium.vector_layers.CircleMarker object at 0x7fa1924962e8>\n",
      "<folium.vector_layers.CircleMarker object at 0x7fa192496320>\n",
      "<folium.vector_layers.CircleMarker object at 0x7fa192496358>\n",
      "<folium.vector_layers.CircleMarker object at 0x7fa192496390>\n",
      "<folium.vector_layers.CircleMarker object at 0x7fa1924963c8>\n",
      "<folium.vector_layers.CircleMarker object at 0x7fa192496400>\n",
      "<folium.vector_layers.CircleMarker object at 0x7fa192496438>\n",
      "<folium.vector_layers.CircleMarker object at 0x7fa192496470>\n",
      "<folium.vector_layers.CircleMarker object at 0x7fa1924964a8>\n",
      "<folium.vector_layers.CircleMarker object at 0x7fa1924964e0>\n"
     ]
    }
   ],
   "source": [
    "trip_markers = markers_from_trips(cleaned_trips)"
   ]
  },
  {
   "cell_type": "code",
   "execution_count": 75,
   "metadata": {},
   "outputs": [
    {
     "data": {
      "text/plain": [
       "[{'pickup_latitude': 40.64499,\n",
       "  'pickup_longitude': -73.78115,\n",
       "  'trip_distance': 18.38},\n",
       " {'pickup_latitude': 40.766931,\n",
       "  'pickup_longitude': -73.982098,\n",
       "  'trip_distance': 1.3},\n",
       " {'pickup_latitude': 40.77773,\n",
       "  'pickup_longitude': -73.951902,\n",
       "  'trip_distance': 4.5},\n",
       " {'pickup_latitude': 40.795678,\n",
       "  'pickup_longitude': -73.971049,\n",
       "  'trip_distance': 2.4}]"
      ]
     },
     "execution_count": 75,
     "metadata": {},
     "output_type": "execute_result"
    }
   ],
   "source": [
    "cleaned_trips[0:4]"
   ]
  },
  {
   "cell_type": "code",
   "execution_count": null,
   "metadata": {},
   "outputs": [],
   "source": [
    "trip_markers and len(trip_markers) # 1000\n",
    "\n",
    "list(map(lambda marker: marker.location, trip_markers[0:4]))\n",
    "# [[40.64499, -73.78115],\n",
    "#  [40.766931, -73.982098],\n",
    "#  [40.77773, -73.951902],\n",
    "#  [40.795678, -73.971049]]"
   ]
  },
  {
   "cell_type": "markdown",
   "metadata": {},
   "source": [
    "Ok, now that we have a function that creates locations, and a function that creates markers, it is time to write a function to plot a map. \n",
    "\n",
    "Write a function called `map_from` that, provided the first argument of a list location and second argument an integer representing the `zoom_start`, returns a `folium` map the corresponding location and `zoom_start` attributes.\n",
    "\n",
    "> Hint: The following is how to write a map with folium:\n",
    "> ```python \n",
    "    folium.Map(location=location, zoom_start=zoom_amount)\n",
    "> ```"
   ]
  },
  {
   "cell_type": "code",
   "execution_count": null,
   "metadata": {},
   "outputs": [],
   "source": [
    "def map_from(location, zoom_amount):\n",
    "    pass"
   ]
  },
  {
   "cell_type": "code",
   "execution_count": null,
   "metadata": {},
   "outputs": [],
   "source": [
    "times_square_map = map_from([40.7589, -73.9851], 15)\n",
    "times_square_map and times_square_map.location # [40.7589, -73.9851]\n",
    "times_square_map and times_square_map.zoom_start # 15"
   ]
  },
  {
   "cell_type": "code",
   "execution_count": null,
   "metadata": {
    "scrolled": true
   },
   "outputs": [],
   "source": [
    "times_square_marker and times_square_marker.add_to(times_square_map)\n",
    "times_square_map"
   ]
  },
  {
   "cell_type": "markdown",
   "metadata": {},
   "source": [
    "Now that we have a marker and a map, now let's write a function that adds a lot of markers to a map.  This function should add each marker in the list to the map object then return the updated map object."
   ]
  },
  {
   "cell_type": "code",
   "execution_count": null,
   "metadata": {},
   "outputs": [],
   "source": [
    "manhattan_map = map_from([40.7589, -73.9851], 13)"
   ]
  },
  {
   "cell_type": "code",
   "execution_count": null,
   "metadata": {},
   "outputs": [],
   "source": [
    "def add_markers(markers, map_obj):\n",
    "    pass"
   ]
  },
  {
   "cell_type": "code",
   "execution_count": null,
   "metadata": {
    "scrolled": false
   },
   "outputs": [],
   "source": [
    "map_with_markers = add_markers(trip_markers, manhattan_map)"
   ]
  },
  {
   "cell_type": "code",
   "execution_count": null,
   "metadata": {},
   "outputs": [],
   "source": [
    "map_with_markers"
   ]
  },
  {
   "cell_type": "markdown",
   "metadata": {},
   "source": [
    "### Using Nearest Neighbors"
   ]
  },
  {
   "cell_type": "markdown",
   "metadata": {},
   "source": [
    "Ok, let's write a function that given a latitude and longitude will predict the distance for us.  We'll do this by first finding the nearest trips given a latitude and longitude. "
   ]
  },
  {
   "cell_type": "markdown",
   "metadata": {},
   "source": [
    "Here we once again apply the nearest neighbors formula. As a first step, write a function named `distance_location` that calculates the distance in pickup location between two trips."
   ]
  },
  {
   "cell_type": "code",
   "execution_count": null,
   "metadata": {},
   "outputs": [],
   "source": [
    "import math\n",
    "\n",
    "def distance_location(selected_trip, neighbor_trip):\n",
    "    pass"
   ]
  },
  {
   "cell_type": "code",
   "execution_count": null,
   "metadata": {},
   "outputs": [],
   "source": [
    "first_trip = {'pickup_latitude': 40.64499, 'pickup_longitude': -73.78115, 'trip_distance': 18.38}\n",
    "second_trip = {'pickup_latitude': 40.766931, 'pickup_longitude': -73.982098, 'trip_distance': 1.3}\n",
    "distance_first_and_second = distance_location(first_trip, second_trip)\n",
    "\n",
    "distance_first_and_second and round(distance_first_and_second, 3) # 0.235"
   ]
  },
  {
   "cell_type": "markdown",
   "metadata": {},
   "source": [
    "Ok, next write a function called `distance_between_neighbors` that adds a new key-value pair, called `distance_from_selected`, that calculates the distance of the `neighbor_trip` from the `selected_trip`."
   ]
  },
  {
   "cell_type": "code",
   "execution_count": null,
   "metadata": {},
   "outputs": [],
   "source": [
    "def distance_between_neighbors(selected_trip, neighbor_trip):\n",
    "    pass"
   ]
  },
  {
   "cell_type": "code",
   "execution_count": null,
   "metadata": {},
   "outputs": [],
   "source": [
    "distance_between_neighbors(first_trip, second_trip)\n",
    "\n",
    "# {'distance_from_selected': 0.23505256047318146,\n",
    "#  'pickup_latitude': 40.766931,\n",
    "#  'pickup_longitude': -73.982098,\n",
    "#  'trip_distance': 1.3}"
   ]
  },
  {
   "cell_type": "markdown",
   "metadata": {},
   "source": [
    "Ok, now our `neighbor_trip` has another attribute called `distance_from_selected`, that indicates the distance from the `neighbor_trip`'s pickup location from the `selected_trip`."
   ]
  },
  {
   "cell_type": "markdown",
   "metadata": {},
   "source": [
    "> ** Understand the data:** Our dictionary now has a few attributes, two of which say distance.  Let's make sure we understand the difference. \n",
    "> * **`distance_from_selected`:** This is our calculation of the distance of the neighbor's pickup location from the selected trip.\n",
    "> * **`trip_distance`:** This is the attribute we were provided initially.  It tells us the length of the neighbor's taxi trip from pickup to drop-off.  "
   ]
  },
  {
   "cell_type": "markdown",
   "metadata": {},
   "source": [
    "Next, write a function called `distance_all` that provided a list of neighbors, returns each of those neighbors with their respective `distance_from_selected` numbers."
   ]
  },
  {
   "cell_type": "code",
   "execution_count": null,
   "metadata": {},
   "outputs": [],
   "source": [
    "def distance_all(selected_individual, neighbors):\n",
    "    pass"
   ]
  },
  {
   "cell_type": "code",
   "execution_count": null,
   "metadata": {},
   "outputs": [],
   "source": [
    "cleaned_trips and distance_all(first_trip, cleaned_trips[0:4])"
   ]
  },
  {
   "cell_type": "markdown",
   "metadata": {},
   "source": [
    "Now write the nearest neighbors formula to calculate the distance of the `selected_trip` from all of the `cleaned_trips` in our dataset.  If no number is provided, it should return the top 3 neighbors."
   ]
  },
  {
   "cell_type": "code",
   "execution_count": null,
   "metadata": {},
   "outputs": [],
   "source": [
    "def nearest_neighbors(selected_trip, trips, number = 3):\n",
    "    pass"
   ]
  },
  {
   "cell_type": "code",
   "execution_count": null,
   "metadata": {},
   "outputs": [],
   "source": [
    "new_trip = {'pickup_latitude': 40.64499,\n",
    "'pickup_longitude': -73.78115,\n",
    "'trip_distance': 18.38}\n",
    "\n",
    "nearest_three_neighbors = nearest_neighbors(new_trip, cleaned_trips or [], number = 3)\n",
    "nearest_three_neighbors\n",
    "# [{'distance_from_selected': 0.0004569288784918792,\n",
    "#   'pickup_latitude': 40.64483,\n",
    "#   'pickup_longitude': -73.781578,\n",
    "#   'trip_distance': 7.78},\n",
    "#  {'distance_from_selected': 0.0011292165425673159,\n",
    "#   'pickup_latitude': 40.644657,\n",
    "#   'pickup_longitude': -73.782229,\n",
    "#   'trip_distance': 12.7},\n",
    "#  {'distance_from_selected': 0.0042359798158141185,\n",
    "#   'pickup_latitude': 40.648509,\n",
    "#   'pickup_longitude': -73.783508,\n",
    "#   'trip_distance': 17.3}]"
   ]
  },
  {
   "cell_type": "markdown",
   "metadata": {},
   "source": [
    "Ok great! Now that we can provide a new trip location, and find the distances of the three nearest trips, we can take  calculate an estimate of the trip distance for that new trip location.  \n",
    "\n",
    "We do so simply by calculating the average of it's nearest neighbors."
   ]
  },
  {
   "cell_type": "code",
   "execution_count": null,
   "metadata": {},
   "outputs": [],
   "source": [
    "import statistics\n",
    "def mean_distance(neighbors):\n",
    "    nearest_distances = list(map(lambda neighbor: neighbor['trip_distance'], neighbors))\n",
    "    return round(statistics.mean(nearest_distances), 3)\n",
    "\n",
    "nearest_three_neighbors = nearest_neighbors(new_trip, cleaned_trips or [], number = 3)\n",
    "distance_estimate_of_selected_trip = mean_distance(nearest_three_neighbors) # 12.593\n",
    "distance_estimate_of_selected_trip"
   ]
  },
  {
   "cell_type": "markdown",
   "metadata": {},
   "source": [
    "### Choosing the correct number of neighbors"
   ]
  },
  {
   "cell_type": "markdown",
   "metadata": {},
   "source": [
    "Now, as we know from the last lesson, one tricky element is to determine how many neighbors to choose, our $k$ value,  before calculating the average.  We want to choose our value of $k$ such that it properly matches actual data, and so that it applies to new data.  There are fancy formulas to ensure that we **train** our algorithm so that our formula is optimized for all data, but here let's see different $k$ values manually.  This is the gist of choosing our $k$ value:\n",
    "\n",
    "* If we choose a $k$ value too low, our formula will be too heavily influenced by a single neighbor, whereas if our $k$ value is too high, we will be choosing so many neighbors that our nearest neighbors formula will not be adjust enough according to locations.\n",
    "\n",
    "Ok, let's experiment with this."
   ]
  },
  {
   "cell_type": "markdown",
   "metadata": {},
   "source": [
    "First, let's choose a midtown location, to see what the trip distance would be.  A Google search reveals the coordinates of 51st and 7th avenue to be the following."
   ]
  },
  {
   "cell_type": "code",
   "execution_count": null,
   "metadata": {},
   "outputs": [],
   "source": [
    "midtown_trip = dict(pickup_latitude=40.761710, pickup_longitude=-73.982760)"
   ]
  },
  {
   "cell_type": "code",
   "execution_count": null,
   "metadata": {},
   "outputs": [],
   "source": [
    "seven_closest = nearest_neighbors(midtown_trip, cleaned_trips, number = 7)\n",
    "seven_closest\n",
    "# [{'trip_distance': 0.58,\n",
    "#   'pickup_latitude': 40.761372,\n",
    "#   'pickup_longitude': -73.982602,\n",
    "#   'distance_from_selected': 0.00037310588309379025},\n",
    "#  {'trip_distance': 0.8,\n",
    "#   'pickup_latitude': 40.762444,\n",
    "#   'pickup_longitude': -73.98244,\n",
    "#   'distance_from_selected': 0.00080072217404248},\n",
    "#  {'trip_distance': 1.4,\n",
    "#   'pickup_latitude': 40.762767,\n",
    "#   'pickup_longitude': -73.982293,\n",
    "#   'distance_from_selected': 0.0011555682584735844},\n",
    "#  {'trip_distance': 8.3,\n",
    "#   'pickup_latitude': 40.762868,\n",
    "#   'pickup_longitude': -73.983233,\n",
    "#   'distance_from_selected': 0.0012508768924205918},\n",
    "#  {'trip_distance': 1.26,\n",
    "#   'pickup_latitude': 40.760057,\n",
    "#   'pickup_longitude': -73.983502,\n",
    "#   'distance_from_selected': 0.0018118976240381972},\n",
    "#  {'trip_distance': 0.0,\n",
    "#   'pickup_latitude': 40.760644,\n",
    "#   'pickup_longitude': -73.984531,\n",
    "#   'distance_from_selected': 0.002067074502774709},\n",
    "#  {'trip_distance': 1.72,\n",
    "#   'pickup_latitude': 40.762107,\n",
    "#   'pickup_longitude': -73.98479,\n",
    "#   'distance_from_selected': 0.0020684557041472677}]"
   ]
  },
  {
   "cell_type": "markdown",
   "metadata": {},
   "source": [
    "Looking at the `distance_from_selected` it appears that our our trips are still fairly close to our selected trip.  Notice that most of the data is within a distance of .002 away, so going to the top 7 nearest neighbors didn't seem to give us neighbors too far from each other, which is a good sign.\n",
    "\n",
    "Still, it's hard to know what distance in latitude and longitude really look like, so let's map the data. "
   ]
  },
  {
   "cell_type": "code",
   "execution_count": null,
   "metadata": {},
   "outputs": [],
   "source": [
    "midtown_location = location(midtown_trip) # [40.76171, -73.98276]\n",
    "midtown_map = map_from(midtown_location, 16)\n",
    "closest_markers = markers_from_trips(seven_closest)\n",
    "\n",
    "add_markers(closest_markers, midtown_map)"
   ]
  },
  {
   "cell_type": "markdown",
   "metadata": {},
   "source": [
    "Ok.  These locations stay fairly close to our estimated location of 51st street and 7th Avenue.  So they could be a good estimate of a trip distance."
   ]
  },
  {
   "cell_type": "code",
   "execution_count": null,
   "metadata": {},
   "outputs": [],
   "source": [
    "mean_distance(seven_closest) # 2.009"
   ]
  },
  {
   "cell_type": "markdown",
   "metadata": {},
   "source": [
    "Ok, now let's try a different location"
   ]
  },
  {
   "cell_type": "code",
   "execution_count": null,
   "metadata": {},
   "outputs": [],
   "source": [
    "charging_bull_closest = nearest_neighbors({'pickup_latitude': 40.7049, 'pickup_longitude': -74.0137}, cleaned_trips, number = 12)"
   ]
  },
  {
   "cell_type": "code",
   "execution_count": null,
   "metadata": {
    "scrolled": true
   },
   "outputs": [],
   "source": [
    "mean_distance(charging_bull_closest) # 3.145"
   ]
  },
  {
   "cell_type": "markdown",
   "metadata": {},
   "source": [
    "Ok, so there appears to be a significant difference between choosing a location near Times Square versus choosing a location at Wall Street."
   ]
  },
  {
   "cell_type": "markdown",
   "metadata": {},
   "source": [
    "### Summary"
   ]
  },
  {
   "cell_type": "markdown",
   "metadata": {},
   "source": [
    "In this lab, we used the nearest neighbors function to predict the length of a taxi ride.  To do so, we selected a location, then found a number of taxi rides closest to that location, and finally took the average trip lengths of the nearest taxi rides to find an estimate of the new ride's trip length.  You can see that even with just a little bit of math and programming we can begin to make meaningful predictions with data."
   ]
  }
 ],
 "metadata": {
  "kernelspec": {
   "display_name": "Python 3",
   "language": "python",
   "name": "python3"
  },
  "language_info": {
   "codemirror_mode": {
    "name": "ipython",
    "version": 3
   },
   "file_extension": ".py",
   "mimetype": "text/x-python",
   "name": "python",
   "nbconvert_exporter": "python",
   "pygments_lexer": "ipython3",
   "version": "3.6.9"
  }
 },
 "nbformat": 4,
 "nbformat_minor": 2
}
